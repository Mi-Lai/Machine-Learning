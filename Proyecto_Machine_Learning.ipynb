{
  "cells": [
    {
      "cell_type": "markdown",
      "metadata": {
        "id": "view-in-github",
        "colab_type": "text"
      },
      "source": [
        "<a href=\"https://colab.research.google.com/github/Mi-Lai/Machine-Learning/blob/main/Proyecto_Machine_Learning.ipynb\" target=\"_parent\"><img src=\"https://colab.research.google.com/assets/colab-badge.svg\" alt=\"Open In Colab\"/></a>"
      ]
    },
    {
      "cell_type": "markdown",
      "metadata": {
        "id": "Q5fEzZqxsKz6"
      },
      "source": [
        "\n",
        "**Equipo 27**\n",
        "\n",
        "*Analistas:*\n",
        "\n",
        "♥ Mi-Lai Yamamoto Joo\n",
        "\n",
        "♥ Litzi Vianey Acosta Reyes\n",
        "\n",
        "♥Tania Rosales Onofre\n",
        "\n",
        "♥Joselyn Guerrero Cabrera\n",
        "\n",
        "♥ Dafne Linette Badillo Campuzano\n"
      ]
    },
    {
      "cell_type": "markdown",
      "metadata": {
        "id": "Nx7wlZk-ixle"
      },
      "source": [
        "#INTRODUCCIÓN\n",
        "El presente proyecto es una comparación de los algritmos supervisados y no supervisados para la detección de Fraude de Tarjetas de Crédito usando datos extraidos de Kanggle: Credit Card Fraud by DHANUSH NARAYANAN R., con la finalidad de obsevar cual modelo se ajusta mejor a nuestros datos."
      ]
    },
    {
      "cell_type": "markdown",
      "metadata": {
        "id": "lfVI4o6SjII-"
      },
      "source": [
        "**Importamos librerias y datos**"
      ]
    },
    {
      "cell_type": "code",
      "execution_count": null,
      "metadata": {
        "id": "2XziseejsEcI"
      },
      "outputs": [],
      "source": [
        "import numpy as np\n",
        "import pandas as pd\n",
        "from matplotlib import pyplot as plt\n",
        "import seaborn as sns\n",
        "from sklearn.datasets import make_blobs\n",
        "from sklearn.model_selection import train_test_split\n",
        "from sklearn.cluster import KMeans\n",
        "from sklearn.preprocessing import StandardScaler\n",
        "from sklearn.metrics.pairwise import euclidean_distances\n"
      ]
    },
    {
      "cell_type": "code",
      "execution_count": null,
      "metadata": {
        "colab": {
          "base_uri": "https://localhost:8080/"
        },
        "id": "Us7oTG_V2dju",
        "outputId": "13a88074-820b-4fd1-e123-88b07216b3b7"
      },
      "outputs": [
        {
          "output_type": "stream",
          "name": "stdout",
          "text": [
            "Collecting opendatasets\n",
            "  Downloading opendatasets-0.1.22-py3-none-any.whl (15 kB)\n",
            "Requirement already satisfied: tqdm in /usr/local/lib/python3.10/dist-packages (from opendatasets) (4.66.1)\n",
            "Requirement already satisfied: kaggle in /usr/local/lib/python3.10/dist-packages (from opendatasets) (1.5.16)\n",
            "Requirement already satisfied: click in /usr/local/lib/python3.10/dist-packages (from opendatasets) (8.1.7)\n",
            "Requirement already satisfied: six>=1.10 in /usr/local/lib/python3.10/dist-packages (from kaggle->opendatasets) (1.16.0)\n",
            "Requirement already satisfied: certifi in /usr/local/lib/python3.10/dist-packages (from kaggle->opendatasets) (2024.2.2)\n",
            "Requirement already satisfied: python-dateutil in /usr/local/lib/python3.10/dist-packages (from kaggle->opendatasets) (2.8.2)\n",
            "Requirement already satisfied: requests in /usr/local/lib/python3.10/dist-packages (from kaggle->opendatasets) (2.31.0)\n",
            "Requirement already satisfied: python-slugify in /usr/local/lib/python3.10/dist-packages (from kaggle->opendatasets) (8.0.4)\n",
            "Requirement already satisfied: urllib3 in /usr/local/lib/python3.10/dist-packages (from kaggle->opendatasets) (2.0.7)\n",
            "Requirement already satisfied: bleach in /usr/local/lib/python3.10/dist-packages (from kaggle->opendatasets) (6.1.0)\n",
            "Requirement already satisfied: webencodings in /usr/local/lib/python3.10/dist-packages (from bleach->kaggle->opendatasets) (0.5.1)\n",
            "Requirement already satisfied: text-unidecode>=1.3 in /usr/local/lib/python3.10/dist-packages (from python-slugify->kaggle->opendatasets) (1.3)\n",
            "Requirement already satisfied: charset-normalizer<4,>=2 in /usr/local/lib/python3.10/dist-packages (from requests->kaggle->opendatasets) (3.3.2)\n",
            "Requirement already satisfied: idna<4,>=2.5 in /usr/local/lib/python3.10/dist-packages (from requests->kaggle->opendatasets) (3.6)\n",
            "Installing collected packages: opendatasets\n",
            "Successfully installed opendatasets-0.1.22\n"
          ]
        }
      ],
      "source": [
        "!pip install opendatasets\n",
        "import opendatasets as od"
      ]
    },
    {
      "cell_type": "code",
      "execution_count": null,
      "metadata": {
        "colab": {
          "base_uri": "https://localhost:8080/"
        },
        "id": "3ThS-ZWg2jXr",
        "outputId": "9ad5cad5-2889-455d-9c36-9ba1928ee8bf"
      },
      "outputs": [
        {
          "output_type": "stream",
          "name": "stdout",
          "text": [
            "Please provide your Kaggle credentials to download this dataset. Learn more: http://bit.ly/kaggle-creds\n",
            "Your Kaggle username: milaiyamamoto\n",
            "Your Kaggle Key: ··········\n",
            "Downloading credit-card-fraud.zip to ./credit-card-fraud\n"
          ]
        },
        {
          "output_type": "stream",
          "name": "stderr",
          "text": [
            "100%|██████████| 28.9M/28.9M [00:00<00:00, 47.6MB/s]\n"
          ]
        },
        {
          "output_type": "stream",
          "name": "stdout",
          "text": [
            "\n"
          ]
        }
      ],
      "source": [
        "URL=\"https://www.kaggle.com/datasets/dhanushnarayananr/credit-card-fraud/data\"\n",
        "od.download(URL)"
      ]
    },
    {
      "cell_type": "markdown",
      "metadata": {
        "id": "mVf0QEw00c0x"
      },
      "source": [
        "Primero importamos nustro dataset y limpiamos los datos."
      ]
    },
    {
      "cell_type": "code",
      "execution_count": null,
      "metadata": {
        "colab": {
          "base_uri": "https://localhost:8080/"
        },
        "id": "gYTTLrR72nZh",
        "outputId": "49680cb4-645a-4b0d-cd29-b0abccb32f44"
      },
      "outputs": [
        {
          "output_type": "execute_result",
          "data": {
            "text/plain": [
              "['card_transdata.csv']"
            ]
          },
          "metadata": {},
          "execution_count": 4
        }
      ],
      "source": [
        "import os\n",
        "os.chdir(\"./credit-card-fraud\")\n",
        "os.listdir()"
      ]
    },
    {
      "cell_type": "code",
      "execution_count": null,
      "metadata": {
        "id": "Wr2yHPSl2rVL"
      },
      "outputs": [],
      "source": [
        "import pandas as pd\n",
        "data='card_transdata.csv'\n",
        "df=pd.read_csv(data)"
      ]
    },
    {
      "cell_type": "markdown",
      "metadata": {
        "id": "GMaWPUsfln6_"
      },
      "source": [
        "***Explicación de las  características:***\n",
        "\n",
        "**Distance_from_home:** la distancia desde el hogar donde se realizó la transacción.\n",
        "\n",
        "**Distance_from_last_transaction:**la distancia desde la última transacción realizada.\n",
        "\n",
        "**ratio_to_median_purchase_price:** relación entre el precio de compra de la transacción y el precio de compra medio.\n",
        "\n",
        "**repetir_retailer:** ¿la transacción se realizó en el mismo minorista?\n",
        "\n",
        "**used_chip:** Es la transacción a través de chip (tarjeta de crédito).\n",
        "\n",
        "**used_pin_number:** ¿la transacción se realizó utilizando el número PIN?\n",
        "online_order: ¿Es la transacción un pedido en línea?\n",
        "\n",
        "**Fraude:** ¿Es la transacción fraudulenta?"
      ]
    },
    {
      "cell_type": "code",
      "execution_count": null,
      "metadata": {
        "id": "EBjwGhKZ24to",
        "colab": {
          "base_uri": "https://localhost:8080/",
          "height": 206
        },
        "outputId": "3dcb34b7-61f8-4a4e-f8a4-0563ebc0738d"
      },
      "outputs": [
        {
          "output_type": "execute_result",
          "data": {
            "text/plain": [
              "   distance_from_home  distance_from_last_transaction  \\\n",
              "0           57.877857                        0.311140   \n",
              "1           10.829943                        0.175592   \n",
              "2            5.091079                        0.805153   \n",
              "3            2.247564                        5.600044   \n",
              "4           44.190936                        0.566486   \n",
              "\n",
              "   ratio_to_median_purchase_price  repeat_retailer  used_chip  \\\n",
              "0                        1.945940              1.0        1.0   \n",
              "1                        1.294219              1.0        0.0   \n",
              "2                        0.427715              1.0        0.0   \n",
              "3                        0.362663              1.0        1.0   \n",
              "4                        2.222767              1.0        1.0   \n",
              "\n",
              "   used_pin_number  online_order  fraud  \n",
              "0              0.0           0.0    0.0  \n",
              "1              0.0           0.0    0.0  \n",
              "2              0.0           1.0    0.0  \n",
              "3              0.0           1.0    0.0  \n",
              "4              0.0           1.0    0.0  "
            ],
            "text/html": [
              "\n",
              "  <div id=\"df-ff177a17-2714-46d1-9389-e3a3ffa7c801\" class=\"colab-df-container\">\n",
              "    <div>\n",
              "<style scoped>\n",
              "    .dataframe tbody tr th:only-of-type {\n",
              "        vertical-align: middle;\n",
              "    }\n",
              "\n",
              "    .dataframe tbody tr th {\n",
              "        vertical-align: top;\n",
              "    }\n",
              "\n",
              "    .dataframe thead th {\n",
              "        text-align: right;\n",
              "    }\n",
              "</style>\n",
              "<table border=\"1\" class=\"dataframe\">\n",
              "  <thead>\n",
              "    <tr style=\"text-align: right;\">\n",
              "      <th></th>\n",
              "      <th>distance_from_home</th>\n",
              "      <th>distance_from_last_transaction</th>\n",
              "      <th>ratio_to_median_purchase_price</th>\n",
              "      <th>repeat_retailer</th>\n",
              "      <th>used_chip</th>\n",
              "      <th>used_pin_number</th>\n",
              "      <th>online_order</th>\n",
              "      <th>fraud</th>\n",
              "    </tr>\n",
              "  </thead>\n",
              "  <tbody>\n",
              "    <tr>\n",
              "      <th>0</th>\n",
              "      <td>57.877857</td>\n",
              "      <td>0.311140</td>\n",
              "      <td>1.945940</td>\n",
              "      <td>1.0</td>\n",
              "      <td>1.0</td>\n",
              "      <td>0.0</td>\n",
              "      <td>0.0</td>\n",
              "      <td>0.0</td>\n",
              "    </tr>\n",
              "    <tr>\n",
              "      <th>1</th>\n",
              "      <td>10.829943</td>\n",
              "      <td>0.175592</td>\n",
              "      <td>1.294219</td>\n",
              "      <td>1.0</td>\n",
              "      <td>0.0</td>\n",
              "      <td>0.0</td>\n",
              "      <td>0.0</td>\n",
              "      <td>0.0</td>\n",
              "    </tr>\n",
              "    <tr>\n",
              "      <th>2</th>\n",
              "      <td>5.091079</td>\n",
              "      <td>0.805153</td>\n",
              "      <td>0.427715</td>\n",
              "      <td>1.0</td>\n",
              "      <td>0.0</td>\n",
              "      <td>0.0</td>\n",
              "      <td>1.0</td>\n",
              "      <td>0.0</td>\n",
              "    </tr>\n",
              "    <tr>\n",
              "      <th>3</th>\n",
              "      <td>2.247564</td>\n",
              "      <td>5.600044</td>\n",
              "      <td>0.362663</td>\n",
              "      <td>1.0</td>\n",
              "      <td>1.0</td>\n",
              "      <td>0.0</td>\n",
              "      <td>1.0</td>\n",
              "      <td>0.0</td>\n",
              "    </tr>\n",
              "    <tr>\n",
              "      <th>4</th>\n",
              "      <td>44.190936</td>\n",
              "      <td>0.566486</td>\n",
              "      <td>2.222767</td>\n",
              "      <td>1.0</td>\n",
              "      <td>1.0</td>\n",
              "      <td>0.0</td>\n",
              "      <td>1.0</td>\n",
              "      <td>0.0</td>\n",
              "    </tr>\n",
              "  </tbody>\n",
              "</table>\n",
              "</div>\n",
              "    <div class=\"colab-df-buttons\">\n",
              "\n",
              "  <div class=\"colab-df-container\">\n",
              "    <button class=\"colab-df-convert\" onclick=\"convertToInteractive('df-ff177a17-2714-46d1-9389-e3a3ffa7c801')\"\n",
              "            title=\"Convert this dataframe to an interactive table.\"\n",
              "            style=\"display:none;\">\n",
              "\n",
              "  <svg xmlns=\"http://www.w3.org/2000/svg\" height=\"24px\" viewBox=\"0 -960 960 960\">\n",
              "    <path d=\"M120-120v-720h720v720H120Zm60-500h600v-160H180v160Zm220 220h160v-160H400v160Zm0 220h160v-160H400v160ZM180-400h160v-160H180v160Zm440 0h160v-160H620v160ZM180-180h160v-160H180v160Zm440 0h160v-160H620v160Z\"/>\n",
              "  </svg>\n",
              "    </button>\n",
              "\n",
              "  <style>\n",
              "    .colab-df-container {\n",
              "      display:flex;\n",
              "      gap: 12px;\n",
              "    }\n",
              "\n",
              "    .colab-df-convert {\n",
              "      background-color: #E8F0FE;\n",
              "      border: none;\n",
              "      border-radius: 50%;\n",
              "      cursor: pointer;\n",
              "      display: none;\n",
              "      fill: #1967D2;\n",
              "      height: 32px;\n",
              "      padding: 0 0 0 0;\n",
              "      width: 32px;\n",
              "    }\n",
              "\n",
              "    .colab-df-convert:hover {\n",
              "      background-color: #E2EBFA;\n",
              "      box-shadow: 0px 1px 2px rgba(60, 64, 67, 0.3), 0px 1px 3px 1px rgba(60, 64, 67, 0.15);\n",
              "      fill: #174EA6;\n",
              "    }\n",
              "\n",
              "    .colab-df-buttons div {\n",
              "      margin-bottom: 4px;\n",
              "    }\n",
              "\n",
              "    [theme=dark] .colab-df-convert {\n",
              "      background-color: #3B4455;\n",
              "      fill: #D2E3FC;\n",
              "    }\n",
              "\n",
              "    [theme=dark] .colab-df-convert:hover {\n",
              "      background-color: #434B5C;\n",
              "      box-shadow: 0px 1px 3px 1px rgba(0, 0, 0, 0.15);\n",
              "      filter: drop-shadow(0px 1px 2px rgba(0, 0, 0, 0.3));\n",
              "      fill: #FFFFFF;\n",
              "    }\n",
              "  </style>\n",
              "\n",
              "    <script>\n",
              "      const buttonEl =\n",
              "        document.querySelector('#df-ff177a17-2714-46d1-9389-e3a3ffa7c801 button.colab-df-convert');\n",
              "      buttonEl.style.display =\n",
              "        google.colab.kernel.accessAllowed ? 'block' : 'none';\n",
              "\n",
              "      async function convertToInteractive(key) {\n",
              "        const element = document.querySelector('#df-ff177a17-2714-46d1-9389-e3a3ffa7c801');\n",
              "        const dataTable =\n",
              "          await google.colab.kernel.invokeFunction('convertToInteractive',\n",
              "                                                    [key], {});\n",
              "        if (!dataTable) return;\n",
              "\n",
              "        const docLinkHtml = 'Like what you see? Visit the ' +\n",
              "          '<a target=\"_blank\" href=https://colab.research.google.com/notebooks/data_table.ipynb>data table notebook</a>'\n",
              "          + ' to learn more about interactive tables.';\n",
              "        element.innerHTML = '';\n",
              "        dataTable['output_type'] = 'display_data';\n",
              "        await google.colab.output.renderOutput(dataTable, element);\n",
              "        const docLink = document.createElement('div');\n",
              "        docLink.innerHTML = docLinkHtml;\n",
              "        element.appendChild(docLink);\n",
              "      }\n",
              "    </script>\n",
              "  </div>\n",
              "\n",
              "\n",
              "<div id=\"df-dcbc3154-6b14-4a30-ae52-dd63e48a34e2\">\n",
              "  <button class=\"colab-df-quickchart\" onclick=\"quickchart('df-dcbc3154-6b14-4a30-ae52-dd63e48a34e2')\"\n",
              "            title=\"Suggest charts\"\n",
              "            style=\"display:none;\">\n",
              "\n",
              "<svg xmlns=\"http://www.w3.org/2000/svg\" height=\"24px\"viewBox=\"0 0 24 24\"\n",
              "     width=\"24px\">\n",
              "    <g>\n",
              "        <path d=\"M19 3H5c-1.1 0-2 .9-2 2v14c0 1.1.9 2 2 2h14c1.1 0 2-.9 2-2V5c0-1.1-.9-2-2-2zM9 17H7v-7h2v7zm4 0h-2V7h2v10zm4 0h-2v-4h2v4z\"/>\n",
              "    </g>\n",
              "</svg>\n",
              "  </button>\n",
              "\n",
              "<style>\n",
              "  .colab-df-quickchart {\n",
              "      --bg-color: #E8F0FE;\n",
              "      --fill-color: #1967D2;\n",
              "      --hover-bg-color: #E2EBFA;\n",
              "      --hover-fill-color: #174EA6;\n",
              "      --disabled-fill-color: #AAA;\n",
              "      --disabled-bg-color: #DDD;\n",
              "  }\n",
              "\n",
              "  [theme=dark] .colab-df-quickchart {\n",
              "      --bg-color: #3B4455;\n",
              "      --fill-color: #D2E3FC;\n",
              "      --hover-bg-color: #434B5C;\n",
              "      --hover-fill-color: #FFFFFF;\n",
              "      --disabled-bg-color: #3B4455;\n",
              "      --disabled-fill-color: #666;\n",
              "  }\n",
              "\n",
              "  .colab-df-quickchart {\n",
              "    background-color: var(--bg-color);\n",
              "    border: none;\n",
              "    border-radius: 50%;\n",
              "    cursor: pointer;\n",
              "    display: none;\n",
              "    fill: var(--fill-color);\n",
              "    height: 32px;\n",
              "    padding: 0;\n",
              "    width: 32px;\n",
              "  }\n",
              "\n",
              "  .colab-df-quickchart:hover {\n",
              "    background-color: var(--hover-bg-color);\n",
              "    box-shadow: 0 1px 2px rgba(60, 64, 67, 0.3), 0 1px 3px 1px rgba(60, 64, 67, 0.15);\n",
              "    fill: var(--button-hover-fill-color);\n",
              "  }\n",
              "\n",
              "  .colab-df-quickchart-complete:disabled,\n",
              "  .colab-df-quickchart-complete:disabled:hover {\n",
              "    background-color: var(--disabled-bg-color);\n",
              "    fill: var(--disabled-fill-color);\n",
              "    box-shadow: none;\n",
              "  }\n",
              "\n",
              "  .colab-df-spinner {\n",
              "    border: 2px solid var(--fill-color);\n",
              "    border-color: transparent;\n",
              "    border-bottom-color: var(--fill-color);\n",
              "    animation:\n",
              "      spin 1s steps(1) infinite;\n",
              "  }\n",
              "\n",
              "  @keyframes spin {\n",
              "    0% {\n",
              "      border-color: transparent;\n",
              "      border-bottom-color: var(--fill-color);\n",
              "      border-left-color: var(--fill-color);\n",
              "    }\n",
              "    20% {\n",
              "      border-color: transparent;\n",
              "      border-left-color: var(--fill-color);\n",
              "      border-top-color: var(--fill-color);\n",
              "    }\n",
              "    30% {\n",
              "      border-color: transparent;\n",
              "      border-left-color: var(--fill-color);\n",
              "      border-top-color: var(--fill-color);\n",
              "      border-right-color: var(--fill-color);\n",
              "    }\n",
              "    40% {\n",
              "      border-color: transparent;\n",
              "      border-right-color: var(--fill-color);\n",
              "      border-top-color: var(--fill-color);\n",
              "    }\n",
              "    60% {\n",
              "      border-color: transparent;\n",
              "      border-right-color: var(--fill-color);\n",
              "    }\n",
              "    80% {\n",
              "      border-color: transparent;\n",
              "      border-right-color: var(--fill-color);\n",
              "      border-bottom-color: var(--fill-color);\n",
              "    }\n",
              "    90% {\n",
              "      border-color: transparent;\n",
              "      border-bottom-color: var(--fill-color);\n",
              "    }\n",
              "  }\n",
              "</style>\n",
              "\n",
              "  <script>\n",
              "    async function quickchart(key) {\n",
              "      const quickchartButtonEl =\n",
              "        document.querySelector('#' + key + ' button');\n",
              "      quickchartButtonEl.disabled = true;  // To prevent multiple clicks.\n",
              "      quickchartButtonEl.classList.add('colab-df-spinner');\n",
              "      try {\n",
              "        const charts = await google.colab.kernel.invokeFunction(\n",
              "            'suggestCharts', [key], {});\n",
              "      } catch (error) {\n",
              "        console.error('Error during call to suggestCharts:', error);\n",
              "      }\n",
              "      quickchartButtonEl.classList.remove('colab-df-spinner');\n",
              "      quickchartButtonEl.classList.add('colab-df-quickchart-complete');\n",
              "    }\n",
              "    (() => {\n",
              "      let quickchartButtonEl =\n",
              "        document.querySelector('#df-dcbc3154-6b14-4a30-ae52-dd63e48a34e2 button');\n",
              "      quickchartButtonEl.style.display =\n",
              "        google.colab.kernel.accessAllowed ? 'block' : 'none';\n",
              "    })();\n",
              "  </script>\n",
              "</div>\n",
              "\n",
              "    </div>\n",
              "  </div>\n"
            ],
            "application/vnd.google.colaboratory.intrinsic+json": {
              "type": "dataframe",
              "variable_name": "df"
            }
          },
          "metadata": {},
          "execution_count": 6
        }
      ],
      "source": [
        "df.head()"
      ]
    },
    {
      "cell_type": "code",
      "execution_count": null,
      "metadata": {
        "id": "tky3w56Z2516",
        "colab": {
          "base_uri": "https://localhost:8080/",
          "height": 300
        },
        "outputId": "083aa4fa-ab6b-4c75-aecb-b291c74a468b"
      },
      "outputs": [
        {
          "output_type": "execute_result",
          "data": {
            "text/plain": [
              "       distance_from_home  distance_from_last_transaction  \\\n",
              "count      1000000.000000                  1000000.000000   \n",
              "mean            26.628792                        5.036519   \n",
              "std             65.390784                       25.843093   \n",
              "min              0.004874                        0.000118   \n",
              "25%              3.878008                        0.296671   \n",
              "50%              9.967760                        0.998650   \n",
              "75%             25.743985                        3.355748   \n",
              "max          10632.723672                    11851.104565   \n",
              "\n",
              "       ratio_to_median_purchase_price  repeat_retailer       used_chip  \\\n",
              "count                  1000000.000000   1000000.000000  1000000.000000   \n",
              "mean                         1.824182         0.881536        0.350399   \n",
              "std                          2.799589         0.323157        0.477095   \n",
              "min                          0.004399         0.000000        0.000000   \n",
              "25%                          0.475673         1.000000        0.000000   \n",
              "50%                          0.997717         1.000000        0.000000   \n",
              "75%                          2.096370         1.000000        1.000000   \n",
              "max                        267.802942         1.000000        1.000000   \n",
              "\n",
              "       used_pin_number    online_order           fraud  \n",
              "count   1000000.000000  1000000.000000  1000000.000000  \n",
              "mean          0.100608        0.650552        0.087403  \n",
              "std           0.300809        0.476796        0.282425  \n",
              "min           0.000000        0.000000        0.000000  \n",
              "25%           0.000000        0.000000        0.000000  \n",
              "50%           0.000000        1.000000        0.000000  \n",
              "75%           0.000000        1.000000        0.000000  \n",
              "max           1.000000        1.000000        1.000000  "
            ],
            "text/html": [
              "\n",
              "  <div id=\"df-3ba117b9-629d-4fab-9342-2e42ac0ef09b\" class=\"colab-df-container\">\n",
              "    <div>\n",
              "<style scoped>\n",
              "    .dataframe tbody tr th:only-of-type {\n",
              "        vertical-align: middle;\n",
              "    }\n",
              "\n",
              "    .dataframe tbody tr th {\n",
              "        vertical-align: top;\n",
              "    }\n",
              "\n",
              "    .dataframe thead th {\n",
              "        text-align: right;\n",
              "    }\n",
              "</style>\n",
              "<table border=\"1\" class=\"dataframe\">\n",
              "  <thead>\n",
              "    <tr style=\"text-align: right;\">\n",
              "      <th></th>\n",
              "      <th>distance_from_home</th>\n",
              "      <th>distance_from_last_transaction</th>\n",
              "      <th>ratio_to_median_purchase_price</th>\n",
              "      <th>repeat_retailer</th>\n",
              "      <th>used_chip</th>\n",
              "      <th>used_pin_number</th>\n",
              "      <th>online_order</th>\n",
              "      <th>fraud</th>\n",
              "    </tr>\n",
              "  </thead>\n",
              "  <tbody>\n",
              "    <tr>\n",
              "      <th>count</th>\n",
              "      <td>1000000.000000</td>\n",
              "      <td>1000000.000000</td>\n",
              "      <td>1000000.000000</td>\n",
              "      <td>1000000.000000</td>\n",
              "      <td>1000000.000000</td>\n",
              "      <td>1000000.000000</td>\n",
              "      <td>1000000.000000</td>\n",
              "      <td>1000000.000000</td>\n",
              "    </tr>\n",
              "    <tr>\n",
              "      <th>mean</th>\n",
              "      <td>26.628792</td>\n",
              "      <td>5.036519</td>\n",
              "      <td>1.824182</td>\n",
              "      <td>0.881536</td>\n",
              "      <td>0.350399</td>\n",
              "      <td>0.100608</td>\n",
              "      <td>0.650552</td>\n",
              "      <td>0.087403</td>\n",
              "    </tr>\n",
              "    <tr>\n",
              "      <th>std</th>\n",
              "      <td>65.390784</td>\n",
              "      <td>25.843093</td>\n",
              "      <td>2.799589</td>\n",
              "      <td>0.323157</td>\n",
              "      <td>0.477095</td>\n",
              "      <td>0.300809</td>\n",
              "      <td>0.476796</td>\n",
              "      <td>0.282425</td>\n",
              "    </tr>\n",
              "    <tr>\n",
              "      <th>min</th>\n",
              "      <td>0.004874</td>\n",
              "      <td>0.000118</td>\n",
              "      <td>0.004399</td>\n",
              "      <td>0.000000</td>\n",
              "      <td>0.000000</td>\n",
              "      <td>0.000000</td>\n",
              "      <td>0.000000</td>\n",
              "      <td>0.000000</td>\n",
              "    </tr>\n",
              "    <tr>\n",
              "      <th>25%</th>\n",
              "      <td>3.878008</td>\n",
              "      <td>0.296671</td>\n",
              "      <td>0.475673</td>\n",
              "      <td>1.000000</td>\n",
              "      <td>0.000000</td>\n",
              "      <td>0.000000</td>\n",
              "      <td>0.000000</td>\n",
              "      <td>0.000000</td>\n",
              "    </tr>\n",
              "    <tr>\n",
              "      <th>50%</th>\n",
              "      <td>9.967760</td>\n",
              "      <td>0.998650</td>\n",
              "      <td>0.997717</td>\n",
              "      <td>1.000000</td>\n",
              "      <td>0.000000</td>\n",
              "      <td>0.000000</td>\n",
              "      <td>1.000000</td>\n",
              "      <td>0.000000</td>\n",
              "    </tr>\n",
              "    <tr>\n",
              "      <th>75%</th>\n",
              "      <td>25.743985</td>\n",
              "      <td>3.355748</td>\n",
              "      <td>2.096370</td>\n",
              "      <td>1.000000</td>\n",
              "      <td>1.000000</td>\n",
              "      <td>0.000000</td>\n",
              "      <td>1.000000</td>\n",
              "      <td>0.000000</td>\n",
              "    </tr>\n",
              "    <tr>\n",
              "      <th>max</th>\n",
              "      <td>10632.723672</td>\n",
              "      <td>11851.104565</td>\n",
              "      <td>267.802942</td>\n",
              "      <td>1.000000</td>\n",
              "      <td>1.000000</td>\n",
              "      <td>1.000000</td>\n",
              "      <td>1.000000</td>\n",
              "      <td>1.000000</td>\n",
              "    </tr>\n",
              "  </tbody>\n",
              "</table>\n",
              "</div>\n",
              "    <div class=\"colab-df-buttons\">\n",
              "\n",
              "  <div class=\"colab-df-container\">\n",
              "    <button class=\"colab-df-convert\" onclick=\"convertToInteractive('df-3ba117b9-629d-4fab-9342-2e42ac0ef09b')\"\n",
              "            title=\"Convert this dataframe to an interactive table.\"\n",
              "            style=\"display:none;\">\n",
              "\n",
              "  <svg xmlns=\"http://www.w3.org/2000/svg\" height=\"24px\" viewBox=\"0 -960 960 960\">\n",
              "    <path d=\"M120-120v-720h720v720H120Zm60-500h600v-160H180v160Zm220 220h160v-160H400v160Zm0 220h160v-160H400v160ZM180-400h160v-160H180v160Zm440 0h160v-160H620v160ZM180-180h160v-160H180v160Zm440 0h160v-160H620v160Z\"/>\n",
              "  </svg>\n",
              "    </button>\n",
              "\n",
              "  <style>\n",
              "    .colab-df-container {\n",
              "      display:flex;\n",
              "      gap: 12px;\n",
              "    }\n",
              "\n",
              "    .colab-df-convert {\n",
              "      background-color: #E8F0FE;\n",
              "      border: none;\n",
              "      border-radius: 50%;\n",
              "      cursor: pointer;\n",
              "      display: none;\n",
              "      fill: #1967D2;\n",
              "      height: 32px;\n",
              "      padding: 0 0 0 0;\n",
              "      width: 32px;\n",
              "    }\n",
              "\n",
              "    .colab-df-convert:hover {\n",
              "      background-color: #E2EBFA;\n",
              "      box-shadow: 0px 1px 2px rgba(60, 64, 67, 0.3), 0px 1px 3px 1px rgba(60, 64, 67, 0.15);\n",
              "      fill: #174EA6;\n",
              "    }\n",
              "\n",
              "    .colab-df-buttons div {\n",
              "      margin-bottom: 4px;\n",
              "    }\n",
              "\n",
              "    [theme=dark] .colab-df-convert {\n",
              "      background-color: #3B4455;\n",
              "      fill: #D2E3FC;\n",
              "    }\n",
              "\n",
              "    [theme=dark] .colab-df-convert:hover {\n",
              "      background-color: #434B5C;\n",
              "      box-shadow: 0px 1px 3px 1px rgba(0, 0, 0, 0.15);\n",
              "      filter: drop-shadow(0px 1px 2px rgba(0, 0, 0, 0.3));\n",
              "      fill: #FFFFFF;\n",
              "    }\n",
              "  </style>\n",
              "\n",
              "    <script>\n",
              "      const buttonEl =\n",
              "        document.querySelector('#df-3ba117b9-629d-4fab-9342-2e42ac0ef09b button.colab-df-convert');\n",
              "      buttonEl.style.display =\n",
              "        google.colab.kernel.accessAllowed ? 'block' : 'none';\n",
              "\n",
              "      async function convertToInteractive(key) {\n",
              "        const element = document.querySelector('#df-3ba117b9-629d-4fab-9342-2e42ac0ef09b');\n",
              "        const dataTable =\n",
              "          await google.colab.kernel.invokeFunction('convertToInteractive',\n",
              "                                                    [key], {});\n",
              "        if (!dataTable) return;\n",
              "\n",
              "        const docLinkHtml = 'Like what you see? Visit the ' +\n",
              "          '<a target=\"_blank\" href=https://colab.research.google.com/notebooks/data_table.ipynb>data table notebook</a>'\n",
              "          + ' to learn more about interactive tables.';\n",
              "        element.innerHTML = '';\n",
              "        dataTable['output_type'] = 'display_data';\n",
              "        await google.colab.output.renderOutput(dataTable, element);\n",
              "        const docLink = document.createElement('div');\n",
              "        docLink.innerHTML = docLinkHtml;\n",
              "        element.appendChild(docLink);\n",
              "      }\n",
              "    </script>\n",
              "  </div>\n",
              "\n",
              "\n",
              "<div id=\"df-1e02fe07-d992-4386-b2c4-4ba663ad57a8\">\n",
              "  <button class=\"colab-df-quickchart\" onclick=\"quickchart('df-1e02fe07-d992-4386-b2c4-4ba663ad57a8')\"\n",
              "            title=\"Suggest charts\"\n",
              "            style=\"display:none;\">\n",
              "\n",
              "<svg xmlns=\"http://www.w3.org/2000/svg\" height=\"24px\"viewBox=\"0 0 24 24\"\n",
              "     width=\"24px\">\n",
              "    <g>\n",
              "        <path d=\"M19 3H5c-1.1 0-2 .9-2 2v14c0 1.1.9 2 2 2h14c1.1 0 2-.9 2-2V5c0-1.1-.9-2-2-2zM9 17H7v-7h2v7zm4 0h-2V7h2v10zm4 0h-2v-4h2v4z\"/>\n",
              "    </g>\n",
              "</svg>\n",
              "  </button>\n",
              "\n",
              "<style>\n",
              "  .colab-df-quickchart {\n",
              "      --bg-color: #E8F0FE;\n",
              "      --fill-color: #1967D2;\n",
              "      --hover-bg-color: #E2EBFA;\n",
              "      --hover-fill-color: #174EA6;\n",
              "      --disabled-fill-color: #AAA;\n",
              "      --disabled-bg-color: #DDD;\n",
              "  }\n",
              "\n",
              "  [theme=dark] .colab-df-quickchart {\n",
              "      --bg-color: #3B4455;\n",
              "      --fill-color: #D2E3FC;\n",
              "      --hover-bg-color: #434B5C;\n",
              "      --hover-fill-color: #FFFFFF;\n",
              "      --disabled-bg-color: #3B4455;\n",
              "      --disabled-fill-color: #666;\n",
              "  }\n",
              "\n",
              "  .colab-df-quickchart {\n",
              "    background-color: var(--bg-color);\n",
              "    border: none;\n",
              "    border-radius: 50%;\n",
              "    cursor: pointer;\n",
              "    display: none;\n",
              "    fill: var(--fill-color);\n",
              "    height: 32px;\n",
              "    padding: 0;\n",
              "    width: 32px;\n",
              "  }\n",
              "\n",
              "  .colab-df-quickchart:hover {\n",
              "    background-color: var(--hover-bg-color);\n",
              "    box-shadow: 0 1px 2px rgba(60, 64, 67, 0.3), 0 1px 3px 1px rgba(60, 64, 67, 0.15);\n",
              "    fill: var(--button-hover-fill-color);\n",
              "  }\n",
              "\n",
              "  .colab-df-quickchart-complete:disabled,\n",
              "  .colab-df-quickchart-complete:disabled:hover {\n",
              "    background-color: var(--disabled-bg-color);\n",
              "    fill: var(--disabled-fill-color);\n",
              "    box-shadow: none;\n",
              "  }\n",
              "\n",
              "  .colab-df-spinner {\n",
              "    border: 2px solid var(--fill-color);\n",
              "    border-color: transparent;\n",
              "    border-bottom-color: var(--fill-color);\n",
              "    animation:\n",
              "      spin 1s steps(1) infinite;\n",
              "  }\n",
              "\n",
              "  @keyframes spin {\n",
              "    0% {\n",
              "      border-color: transparent;\n",
              "      border-bottom-color: var(--fill-color);\n",
              "      border-left-color: var(--fill-color);\n",
              "    }\n",
              "    20% {\n",
              "      border-color: transparent;\n",
              "      border-left-color: var(--fill-color);\n",
              "      border-top-color: var(--fill-color);\n",
              "    }\n",
              "    30% {\n",
              "      border-color: transparent;\n",
              "      border-left-color: var(--fill-color);\n",
              "      border-top-color: var(--fill-color);\n",
              "      border-right-color: var(--fill-color);\n",
              "    }\n",
              "    40% {\n",
              "      border-color: transparent;\n",
              "      border-right-color: var(--fill-color);\n",
              "      border-top-color: var(--fill-color);\n",
              "    }\n",
              "    60% {\n",
              "      border-color: transparent;\n",
              "      border-right-color: var(--fill-color);\n",
              "    }\n",
              "    80% {\n",
              "      border-color: transparent;\n",
              "      border-right-color: var(--fill-color);\n",
              "      border-bottom-color: var(--fill-color);\n",
              "    }\n",
              "    90% {\n",
              "      border-color: transparent;\n",
              "      border-bottom-color: var(--fill-color);\n",
              "    }\n",
              "  }\n",
              "</style>\n",
              "\n",
              "  <script>\n",
              "    async function quickchart(key) {\n",
              "      const quickchartButtonEl =\n",
              "        document.querySelector('#' + key + ' button');\n",
              "      quickchartButtonEl.disabled = true;  // To prevent multiple clicks.\n",
              "      quickchartButtonEl.classList.add('colab-df-spinner');\n",
              "      try {\n",
              "        const charts = await google.colab.kernel.invokeFunction(\n",
              "            'suggestCharts', [key], {});\n",
              "      } catch (error) {\n",
              "        console.error('Error during call to suggestCharts:', error);\n",
              "      }\n",
              "      quickchartButtonEl.classList.remove('colab-df-spinner');\n",
              "      quickchartButtonEl.classList.add('colab-df-quickchart-complete');\n",
              "    }\n",
              "    (() => {\n",
              "      let quickchartButtonEl =\n",
              "        document.querySelector('#df-1e02fe07-d992-4386-b2c4-4ba663ad57a8 button');\n",
              "      quickchartButtonEl.style.display =\n",
              "        google.colab.kernel.accessAllowed ? 'block' : 'none';\n",
              "    })();\n",
              "  </script>\n",
              "</div>\n",
              "\n",
              "    </div>\n",
              "  </div>\n"
            ],
            "application/vnd.google.colaboratory.intrinsic+json": {
              "type": "dataframe",
              "summary": "{\n  \"name\": \"df\",\n  \"rows\": 8,\n  \"fields\": [\n    {\n      \"column\": \"distance_from_home\",\n      \"properties\": {\n        \"dtype\": \"number\",\n        \"std\": 353029.23639239033,\n        \"min\": 0.0048743850667442,\n        \"max\": 1000000.0,\n        \"samples\": [\n          26.62879219257128,\n          9.967760078697681,\n          1000000.0\n        ],\n        \"num_unique_values\": 8,\n        \"semantic_type\": \"\",\n        \"description\": \"\"\n      }\n    },\n    {\n      \"column\": \"distance_from_last_transaction\",\n      \"properties\": {\n        \"dtype\": \"number\",\n        \"std\": 352977.3624937616,\n        \"min\": 0.000118281615244,\n        \"max\": 1000000.0,\n        \"samples\": [\n          5.036519397861618,\n          0.9986501239499769,\n          1000000.0\n        ],\n        \"num_unique_values\": 8,\n        \"semantic_type\": \"\",\n        \"description\": \"\"\n      }\n    },\n    {\n      \"column\": \"ratio_to_median_purchase_price\",\n      \"properties\": {\n        \"dtype\": \"number\",\n        \"std\": 353539.46273868997,\n        \"min\": 0.004399239615964,\n        \"max\": 1000000.0,\n        \"samples\": [\n          1.8241819784044924,\n          0.9977169368730889,\n          1000000.0\n        ],\n        \"num_unique_values\": 8,\n        \"semantic_type\": \"\",\n        \"description\": \"\"\n      }\n    },\n    {\n      \"column\": \"repeat_retailer\",\n      \"properties\": {\n        \"dtype\": \"number\",\n        \"std\": 353553.1277167891,\n        \"min\": 0.0,\n        \"max\": 1000000.0,\n        \"samples\": [\n          0.881536,\n          1.0,\n          0.3231569048223868\n        ],\n        \"num_unique_values\": 5,\n        \"semantic_type\": \"\",\n        \"description\": \"\"\n      }\n    },\n    {\n      \"column\": \"used_chip\",\n      \"properties\": {\n        \"dtype\": \"number\",\n        \"std\": 353553.24778349814,\n        \"min\": 0.0,\n        \"max\": 1000000.0,\n        \"samples\": [\n          0.350399,\n          1.0,\n          0.47709513560585415\n        ],\n        \"num_unique_values\": 5,\n        \"semantic_type\": \"\",\n        \"description\": \"\"\n      }\n    },\n    {\n      \"column\": \"used_pin_number\",\n      \"properties\": {\n        \"dtype\": \"number\",\n        \"std\": 353553.31981118646,\n        \"min\": 0.0,\n        \"max\": 1000000.0,\n        \"samples\": [\n          0.100608,\n          1.0,\n          0.30080911027115\n        ],\n        \"num_unique_values\": 5,\n        \"semantic_type\": \"\",\n        \"description\": \"\"\n      }\n    },\n    {\n      \"column\": \"online_order\",\n      \"properties\": {\n        \"dtype\": \"number\",\n        \"std\": 353553.1821309709,\n        \"min\": 0.0,\n        \"max\": 1000000.0,\n        \"samples\": [\n          0.650552,\n          1.0,\n          0.4767958920023563\n        ],\n        \"num_unique_values\": 5,\n        \"semantic_type\": \"\",\n        \"description\": \"\"\n      }\n    },\n    {\n      \"column\": \"fraud\",\n      \"properties\": {\n        \"dtype\": \"number\",\n        \"std\": 353553.32140668493,\n        \"min\": 0.0,\n        \"max\": 1000000.0,\n        \"samples\": [\n          0.087403,\n          1.0,\n          0.2824248490391653\n        ],\n        \"num_unique_values\": 5,\n        \"semantic_type\": \"\",\n        \"description\": \"\"\n      }\n    }\n  ]\n}"
            }
          },
          "metadata": {},
          "execution_count": 7
        }
      ],
      "source": [
        "df.describe()"
      ]
    },
    {
      "cell_type": "code",
      "execution_count": null,
      "metadata": {
        "colab": {
          "base_uri": "https://localhost:8080/"
        },
        "id": "MRosDLqV4SvI",
        "outputId": "1664df64-11ca-4bb4-96ef-4d36d7ef4104"
      },
      "outputs": [
        {
          "output_type": "execute_result",
          "data": {
            "text/plain": [
              "distance_from_home                0\n",
              "distance_from_last_transaction    0\n",
              "ratio_to_median_purchase_price    0\n",
              "repeat_retailer                   0\n",
              "used_chip                         0\n",
              "used_pin_number                   0\n",
              "online_order                      0\n",
              "fraud                             0\n",
              "dtype: int64"
            ]
          },
          "metadata": {},
          "execution_count": 8
        }
      ],
      "source": [
        "df.isnull().sum()"
      ]
    },
    {
      "cell_type": "markdown",
      "metadata": {
        "id": "HcxZyaDrqZ2O"
      },
      "source": [
        "Calculamos el porcentaje de transacciones del dataframe original, donde 0 son las transacciones legales y 1 las transacciones fraudeulentas.\n",
        "Entonces tenemos que el 91.25% de las transacciones son legales y 8.74% son fraudes."
      ]
    },
    {
      "cell_type": "code",
      "execution_count": null,
      "metadata": {
        "colab": {
          "base_uri": "https://localhost:8080/"
        },
        "id": "kOmX4_kA4ek-",
        "outputId": "99cf03fa-a2c1-458c-a9e8-53d8c4420bef"
      },
      "outputs": [
        {
          "output_type": "execute_result",
          "data": {
            "text/plain": [
              "0.0    91.2597\n",
              "1.0     8.7403\n",
              "Name: fraud, dtype: float64"
            ]
          },
          "metadata": {},
          "execution_count": 9
        }
      ],
      "source": [
        " df['fraud'].value_counts()/len(df)*100"
      ]
    },
    {
      "cell_type": "markdown",
      "metadata": {
        "id": "5pGPQF4ooJXj"
      },
      "source": [
        "#*ALGORITMOS NO SUPERVISADOS*"
      ]
    },
    {
      "cell_type": "markdown",
      "metadata": {
        "id": "YI2cgEfjjnT6"
      },
      "source": [
        "### **K means**\n",
        "\n",
        "*Analista: Mi-Lai Yamamoto Joo*\n",
        "\n",
        "Aplicamos el modelo k-means,para detectar fraudes en las trasacciones de trajetas de crédito.\n",
        "\n",
        "Primero declaramos nuestras variables, sea x igual a todo el conjunto de datos menos la variable objetivo fraude (y)\n",
        "Seleccionamos una muestra de 100,000 datos de nuestro conjunto de datos,donde k es igual a 2, y nuestras caracteristicas son 7."
      ]
    },
    {
      "cell_type": "code",
      "execution_count": null,
      "metadata": {
        "colab": {
          "base_uri": "https://localhost:8080/",
          "height": 465
        },
        "id": "oQ2JayfM428t",
        "outputId": "2bbf2b29-fc1a-48ac-9c33-c2c6619b67f3"
      },
      "outputs": [
        {
          "data": {
            "image/png": "[encoded data removed]",
            "text/plain": [
              "<Figure size 640x480 with 1 Axes>"
            ]
          },
          "metadata": {},
          "output_type": "display_data"
        },
        {
          "name": "stdout",
          "output_type": "stream",
          "text": [
            "(100000, 7)\n",
            "(100000,)\n"
          ]
        }
      ],
      "source": [
        "sample_size= 100000\n",
        "x, y = make_blobs(n_samples=sample_size, centers=2, n_features=7)\n",
        "plt.scatter(x[:,0], x[:,1], c=y)\n",
        "plt.show()\n",
        "print(x.shape)\n",
        "print(y.shape)\n"
      ]
    },
    {
      "cell_type": "code",
      "execution_count": null,
      "metadata": {
        "colab": {
          "base_uri": "https://localhost:8080/",
          "height": 424
        },
        "id": "Ujo4-xaZASS6",
        "outputId": "af77f9d0-9032-4f8f-acd4-04b19b141c7c"
      },
      "outputs": [
        {
          "data": {
            "text/html": [
              "\n",
              "  <div id=\"df-f440df6d-b060-4786-a2f2-0568760d2519\" class=\"colab-df-container\">\n",
              "    <div>\n",
              "<style scoped>\n",
              "    .dataframe tbody tr th:only-of-type {\n",
              "        vertical-align: middle;\n",
              "    }\n",
              "\n",
              "    .dataframe tbody tr th {\n",
              "        vertical-align: top;\n",
              "    }\n",
              "\n",
              "    .dataframe thead th {\n",
              "        text-align: right;\n",
              "    }\n",
              "</style>\n",
              "<table border=\"1\" class=\"dataframe\">\n",
              "  <thead>\n",
              "    <tr style=\"text-align: right;\">\n",
              "      <th></th>\n",
              "      <th>distance_from_home</th>\n",
              "      <th>distance_from_last_transaction</th>\n",
              "      <th>ratio_to_median_purchase_price</th>\n",
              "      <th>repeat_retailer</th>\n",
              "      <th>used_chip</th>\n",
              "      <th>used_pin_number</th>\n",
              "      <th>online_order</th>\n",
              "      <th>fraud</th>\n",
              "    </tr>\n",
              "  </thead>\n",
              "  <tbody>\n",
              "    <tr>\n",
              "      <th>0</th>\n",
              "      <td>0.929509</td>\n",
              "      <td>1.296477</td>\n",
              "      <td>0.361110</td>\n",
              "      <td>0.0</td>\n",
              "      <td>0.0</td>\n",
              "      <td>0.0</td>\n",
              "      <td>1.0</td>\n",
              "      <td>0.0</td>\n",
              "    </tr>\n",
              "    <tr>\n",
              "      <th>1</th>\n",
              "      <td>0.611179</td>\n",
              "      <td>0.208295</td>\n",
              "      <td>3.118884</td>\n",
              "      <td>0.0</td>\n",
              "      <td>0.0</td>\n",
              "      <td>0.0</td>\n",
              "      <td>1.0</td>\n",
              "      <td>0.0</td>\n",
              "    </tr>\n",
              "    <tr>\n",
              "      <th>2</th>\n",
              "      <td>3.956062</td>\n",
              "      <td>0.529194</td>\n",
              "      <td>1.579942</td>\n",
              "      <td>1.0</td>\n",
              "      <td>0.0</td>\n",
              "      <td>0.0</td>\n",
              "      <td>0.0</td>\n",
              "      <td>0.0</td>\n",
              "    </tr>\n",
              "    <tr>\n",
              "      <th>3</th>\n",
              "      <td>21.798902</td>\n",
              "      <td>0.019399</td>\n",
              "      <td>11.416909</td>\n",
              "      <td>1.0</td>\n",
              "      <td>0.0</td>\n",
              "      <td>0.0</td>\n",
              "      <td>0.0</td>\n",
              "      <td>0.0</td>\n",
              "    </tr>\n",
              "    <tr>\n",
              "      <th>4</th>\n",
              "      <td>3.310635</td>\n",
              "      <td>1.707802</td>\n",
              "      <td>2.028915</td>\n",
              "      <td>1.0</td>\n",
              "      <td>0.0</td>\n",
              "      <td>0.0</td>\n",
              "      <td>0.0</td>\n",
              "      <td>0.0</td>\n",
              "    </tr>\n",
              "    <tr>\n",
              "      <th>...</th>\n",
              "      <td>...</td>\n",
              "      <td>...</td>\n",
              "      <td>...</td>\n",
              "      <td>...</td>\n",
              "      <td>...</td>\n",
              "      <td>...</td>\n",
              "      <td>...</td>\n",
              "      <td>...</td>\n",
              "    </tr>\n",
              "    <tr>\n",
              "      <th>99995</th>\n",
              "      <td>5.196402</td>\n",
              "      <td>1.306204</td>\n",
              "      <td>1.133054</td>\n",
              "      <td>1.0</td>\n",
              "      <td>0.0</td>\n",
              "      <td>0.0</td>\n",
              "      <td>1.0</td>\n",
              "      <td>0.0</td>\n",
              "    </tr>\n",
              "    <tr>\n",
              "      <th>99996</th>\n",
              "      <td>56.279883</td>\n",
              "      <td>0.152974</td>\n",
              "      <td>0.277104</td>\n",
              "      <td>1.0</td>\n",
              "      <td>0.0</td>\n",
              "      <td>0.0</td>\n",
              "      <td>0.0</td>\n",
              "      <td>0.0</td>\n",
              "    </tr>\n",
              "    <tr>\n",
              "      <th>99997</th>\n",
              "      <td>28.424613</td>\n",
              "      <td>0.466520</td>\n",
              "      <td>1.577858</td>\n",
              "      <td>1.0</td>\n",
              "      <td>1.0</td>\n",
              "      <td>0.0</td>\n",
              "      <td>1.0</td>\n",
              "      <td>0.0</td>\n",
              "    </tr>\n",
              "    <tr>\n",
              "      <th>99998</th>\n",
              "      <td>26.574444</td>\n",
              "      <td>2.679191</td>\n",
              "      <td>1.471028</td>\n",
              "      <td>1.0</td>\n",
              "      <td>0.0</td>\n",
              "      <td>0.0</td>\n",
              "      <td>1.0</td>\n",
              "      <td>0.0</td>\n",
              "    </tr>\n",
              "    <tr>\n",
              "      <th>99999</th>\n",
              "      <td>9.675074</td>\n",
              "      <td>3.578603</td>\n",
              "      <td>1.676146</td>\n",
              "      <td>1.0</td>\n",
              "      <td>0.0</td>\n",
              "      <td>0.0</td>\n",
              "      <td>1.0</td>\n",
              "      <td>0.0</td>\n",
              "    </tr>\n",
              "  </tbody>\n",
              "</table>\n",
              "<p>100000 rows × 8 columns</p>\n",
              "</div>\n",
              "    <div class=\"colab-df-buttons\">\n",
              "\n",
              "  <div class=\"colab-df-container\">\n",
              "    <button class=\"colab-df-convert\" onclick=\"convertToInteractive('df-f440df6d-b060-4786-a2f2-0568760d2519')\"\n",
              "            title=\"Convert this dataframe to an interactive table.\"\n",
              "            style=\"display:none;\">\n",
              "\n",
              "  <svg xmlns=\"http://www.w3.org/2000/svg\" height=\"24px\" viewBox=\"0 -960 960 960\">\n",
              "    <path d=\"M120-120v-720h720v720H120Zm60-500h600v-160H180v160Zm220 220h160v-160H400v160Zm0 220h160v-160H400v160ZM180-400h160v-160H180v160Zm440 0h160v-160H620v160ZM180-180h160v-160H180v160Zm440 0h160v-160H620v160Z\"/>\n",
              "  </svg>\n",
              "    </button>\n",
              "\n",
              "  <style>\n",
              "    .colab-df-container {\n",
              "      display:flex;\n",
              "      gap: 12px;\n",
              "    }\n",
              "\n",
              "    .colab-df-convert {\n",
              "      background-color: #E8F0FE;\n",
              "      border: none;\n",
              "      border-radius: 50%;\n",
              "      cursor: pointer;\n",
              "      display: none;\n",
              "      fill: #1967D2;\n",
              "      height: 32px;\n",
              "      padding: 0 0 0 0;\n",
              "      width: 32px;\n",
              "    }\n",
              "\n",
              "    .colab-df-convert:hover {\n",
              "      background-color: #E2EBFA;\n",
              "      box-shadow: 0px 1px 2px rgba(60, 64, 67, 0.3), 0px 1px 3px 1px rgba(60, 64, 67, 0.15);\n",
              "      fill: #174EA6;\n",
              "    }\n",
              "\n",
              "    .colab-df-buttons div {\n",
              "      margin-bottom: 4px;\n",
              "    }\n",
              "\n",
              "    [theme=dark] .colab-df-convert {\n",
              "      background-color: #3B4455;\n",
              "      fill: #D2E3FC;\n",
              "    }\n",
              "\n",
              "    [theme=dark] .colab-df-convert:hover {\n",
              "      background-color: #434B5C;\n",
              "      box-shadow: 0px 1px 3px 1px rgba(0, 0, 0, 0.15);\n",
              "      filter: drop-shadow(0px 1px 2px rgba(0, 0, 0, 0.3));\n",
              "      fill: #FFFFFF;\n",
              "    }\n",
              "  </style>\n",
              "\n",
              "    <script>\n",
              "      const buttonEl =\n",
              "        document.querySelector('#df-f440df6d-b060-4786-a2f2-0568760d2519 button.colab-df-convert');\n",
              "      buttonEl.style.display =\n",
              "        google.colab.kernel.accessAllowed ? 'block' : 'none';\n",
              "\n",
              "      async function convertToInteractive(key) {\n",
              "        const element = document.querySelector('#df-f440df6d-b060-4786-a2f2-0568760d2519');\n",
              "        const dataTable =\n",
              "          await google.colab.kernel.invokeFunction('convertToInteractive',\n",
              "                                                    [key], {});\n",
              "        if (!dataTable) return;\n",
              "\n",
              "        const docLinkHtml = 'Like what you see? Visit the ' +\n",
              "          '<a target=\"_blank\" href=https://colab.research.google.com/notebooks/data_table.ipynb>data table notebook</a>'\n",
              "          + ' to learn more about interactive tables.';\n",
              "        element.innerHTML = '';\n",
              "        dataTable['output_type'] = 'display_data';\n",
              "        await google.colab.output.renderOutput(dataTable, element);\n",
              "        const docLink = document.createElement('div');\n",
              "        docLink.innerHTML = docLinkHtml;\n",
              "        element.appendChild(docLink);\n",
              "      }\n",
              "    </script>\n",
              "  </div>\n",
              "\n",
              "\n",
              "<div id=\"df-7f69dd81-d028-4091-8f09-54c174d8f1de\">\n",
              "  <button class=\"colab-df-quickchart\" onclick=\"quickchart('df-7f69dd81-d028-4091-8f09-54c174d8f1de')\"\n",
              "            title=\"Suggest charts\"\n",
              "            style=\"display:none;\">\n",
              "\n",
              "<svg xmlns=\"http://www.w3.org/2000/svg\" height=\"24px\"viewBox=\"0 0 24 24\"\n",
              "     width=\"24px\">\n",
              "    <g>\n",
              "        <path d=\"M19 3H5c-1.1 0-2 .9-2 2v14c0 1.1.9 2 2 2h14c1.1 0 2-.9 2-2V5c0-1.1-.9-2-2-2zM9 17H7v-7h2v7zm4 0h-2V7h2v10zm4 0h-2v-4h2v4z\"/>\n",
              "    </g>\n",
              "</svg>\n",
              "  </button>\n",
              "\n",
              "<style>\n",
              "  .colab-df-quickchart {\n",
              "      --bg-color: #E8F0FE;\n",
              "      --fill-color: #1967D2;\n",
              "      --hover-bg-color: #E2EBFA;\n",
              "      --hover-fill-color: #174EA6;\n",
              "      --disabled-fill-color: #AAA;\n",
              "      --disabled-bg-color: #DDD;\n",
              "  }\n",
              "\n",
              "  [theme=dark] .colab-df-quickchart {\n",
              "      --bg-color: #3B4455;\n",
              "      --fill-color: #D2E3FC;\n",
              "      --hover-bg-color: #434B5C;\n",
              "      --hover-fill-color: #FFFFFF;\n",
              "      --disabled-bg-color: #3B4455;\n",
              "      --disabled-fill-color: #666;\n",
              "  }\n",
              "\n",
              "  .colab-df-quickchart {\n",
              "    background-color: var(--bg-color);\n",
              "    border: none;\n",
              "    border-radius: 50%;\n",
              "    cursor: pointer;\n",
              "    display: none;\n",
              "    fill: var(--fill-color);\n",
              "    height: 32px;\n",
              "    padding: 0;\n",
              "    width: 32px;\n",
              "  }\n",
              "\n",
              "  .colab-df-quickchart:hover {\n",
              "    background-color: var(--hover-bg-color);\n",
              "    box-shadow: 0 1px 2px rgba(60, 64, 67, 0.3), 0 1px 3px 1px rgba(60, 64, 67, 0.15);\n",
              "    fill: var(--button-hover-fill-color);\n",
              "  }\n",
              "\n",
              "  .colab-df-quickchart-complete:disabled,\n",
              "  .colab-df-quickchart-complete:disabled:hover {\n",
              "    background-color: var(--disabled-bg-color);\n",
              "    fill: var(--disabled-fill-color);\n",
              "    box-shadow: none;\n",
              "  }\n",
              "\n",
              "  .colab-df-spinner {\n",
              "    border: 2px solid var(--fill-color);\n",
              "    border-color: transparent;\n",
              "    border-bottom-color: var(--fill-color);\n",
              "    animation:\n",
              "      spin 1s steps(1) infinite;\n",
              "  }\n",
              "\n",
              "  @keyframes spin {\n",
              "    0% {\n",
              "      border-color: transparent;\n",
              "      border-bottom-color: var(--fill-color);\n",
              "      border-left-color: var(--fill-color);\n",
              "    }\n",
              "    20% {\n",
              "      border-color: transparent;\n",
              "      border-left-color: var(--fill-color);\n",
              "      border-top-color: var(--fill-color);\n",
              "    }\n",
              "    30% {\n",
              "      border-color: transparent;\n",
              "      border-left-color: var(--fill-color);\n",
              "      border-top-color: var(--fill-color);\n",
              "      border-right-color: var(--fill-color);\n",
              "    }\n",
              "    40% {\n",
              "      border-color: transparent;\n",
              "      border-right-color: var(--fill-color);\n",
              "      border-top-color: var(--fill-color);\n",
              "    }\n",
              "    60% {\n",
              "      border-color: transparent;\n",
              "      border-right-color: var(--fill-color);\n",
              "    }\n",
              "    80% {\n",
              "      border-color: transparent;\n",
              "      border-right-color: var(--fill-color);\n",
              "      border-bottom-color: var(--fill-color);\n",
              "    }\n",
              "    90% {\n",
              "      border-color: transparent;\n",
              "      border-bottom-color: var(--fill-color);\n",
              "    }\n",
              "  }\n",
              "</style>\n",
              "\n",
              "  <script>\n",
              "    async function quickchart(key) {\n",
              "      const quickchartButtonEl =\n",
              "        document.querySelector('#' + key + ' button');\n",
              "      quickchartButtonEl.disabled = true;  // To prevent multiple clicks.\n",
              "      quickchartButtonEl.classList.add('colab-df-spinner');\n",
              "      try {\n",
              "        const charts = await google.colab.kernel.invokeFunction(\n",
              "            'suggestCharts', [key], {});\n",
              "      } catch (error) {\n",
              "        console.error('Error during call to suggestCharts:', error);\n",
              "      }\n",
              "      quickchartButtonEl.classList.remove('colab-df-spinner');\n",
              "      quickchartButtonEl.classList.add('colab-df-quickchart-complete');\n",
              "    }\n",
              "    (() => {\n",
              "      let quickchartButtonEl =\n",
              "        document.querySelector('#df-7f69dd81-d028-4091-8f09-54c174d8f1de button');\n",
              "      quickchartButtonEl.style.display =\n",
              "        google.colab.kernel.accessAllowed ? 'block' : 'none';\n",
              "    })();\n",
              "  </script>\n",
              "</div>\n",
              "\n",
              "  <div id=\"id_35a73833-70d4-41cc-be77-f13700d42832\">\n",
              "    <style>\n",
              "      .colab-df-generate {\n",
              "        background-color: #E8F0FE;\n",
              "        border: none;\n",
              "        border-radius: 50%;\n",
              "        cursor: pointer;\n",
              "        display: none;\n",
              "        fill: #1967D2;\n",
              "        height: 32px;\n",
              "        padding: 0 0 0 0;\n",
              "        width: 32px;\n",
              "      }\n",
              "\n",
              "      .colab-df-generate:hover {\n",
              "        background-color: #E2EBFA;\n",
              "        box-shadow: 0px 1px 2px rgba(60, 64, 67, 0.3), 0px 1px 3px 1px rgba(60, 64, 67, 0.15);\n",
              "        fill: #174EA6;\n",
              "      }\n",
              "\n",
              "      [theme=dark] .colab-df-generate {\n",
              "        background-color: #3B4455;\n",
              "        fill: #D2E3FC;\n",
              "      }\n",
              "\n",
              "      [theme=dark] .colab-df-generate:hover {\n",
              "        background-color: #434B5C;\n",
              "        box-shadow: 0px 1px 3px 1px rgba(0, 0, 0, 0.15);\n",
              "        filter: drop-shadow(0px 1px 2px rgba(0, 0, 0, 0.3));\n",
              "        fill: #FFFFFF;\n",
              "      }\n",
              "    </style>\n",
              "    <button class=\"colab-df-generate\" onclick=\"generateWithVariable('sampled_df')\"\n",
              "            title=\"Generate code using this dataframe.\"\n",
              "            style=\"display:none;\">\n",
              "\n",
              "  <svg xmlns=\"http://www.w3.org/2000/svg\" height=\"24px\"viewBox=\"0 0 24 24\"\n",
              "       width=\"24px\">\n",
              "    <path d=\"M7,19H8.4L18.45,9,17,7.55,7,17.6ZM5,21V16.75L18.45,3.32a2,2,0,0,1,2.83,0l1.4,1.43a1.91,1.91,0,0,1,.58,1.4,1.91,1.91,0,0,1-.58,1.4L9.25,21ZM18.45,9,17,7.55Zm-12,3A5.31,5.31,0,0,0,4.9,8.1,5.31,5.31,0,0,0,1,6.5,5.31,5.31,0,0,0,4.9,4.9,5.31,5.31,0,0,0,6.5,1,5.31,5.31,0,0,0,8.1,4.9,5.31,5.31,0,0,0,12,6.5,5.46,5.46,0,0,0,6.5,12Z\"/>\n",
              "  </svg>\n",
              "    </button>\n",
              "    <script>\n",
              "      (() => {\n",
              "      const buttonEl =\n",
              "        document.querySelector('#id_35a73833-70d4-41cc-be77-f13700d42832 button.colab-df-generate');\n",
              "      buttonEl.style.display =\n",
              "        google.colab.kernel.accessAllowed ? 'block' : 'none';\n",
              "\n",
              "      buttonEl.onclick = () => {\n",
              "        google.colab.notebook.generateWithVariable('sampled_df');\n",
              "      }\n",
              "      })();\n",
              "    </script>\n",
              "  </div>\n",
              "\n",
              "    </div>\n",
              "  </div>\n"
            ],
            "text/plain": [
              "       distance_from_home  distance_from_last_transaction  \\\n",
              "0                0.929509                        1.296477   \n",
              "1                0.611179                        0.208295   \n",
              "2                3.956062                        0.529194   \n",
              "3               21.798902                        0.019399   \n",
              "4                3.310635                        1.707802   \n",
              "...                   ...                             ...   \n",
              "99995            5.196402                        1.306204   \n",
              "99996           56.279883                        0.152974   \n",
              "99997           28.424613                        0.466520   \n",
              "99998           26.574444                        2.679191   \n",
              "99999            9.675074                        3.578603   \n",
              "\n",
              "       ratio_to_median_purchase_price  repeat_retailer  used_chip  \\\n",
              "0                            0.361110              0.0        0.0   \n",
              "1                            3.118884              0.0        0.0   \n",
              "2                            1.579942              1.0        0.0   \n",
              "3                           11.416909              1.0        0.0   \n",
              "4                            2.028915              1.0        0.0   \n",
              "...                               ...              ...        ...   \n",
              "99995                        1.133054              1.0        0.0   \n",
              "99996                        0.277104              1.0        0.0   \n",
              "99997                        1.577858              1.0        1.0   \n",
              "99998                        1.471028              1.0        0.0   \n",
              "99999                        1.676146              1.0        0.0   \n",
              "\n",
              "       used_pin_number  online_order  fraud  \n",
              "0                  0.0           1.0    0.0  \n",
              "1                  0.0           1.0    0.0  \n",
              "2                  0.0           0.0    0.0  \n",
              "3                  0.0           0.0    0.0  \n",
              "4                  0.0           0.0    0.0  \n",
              "...                ...           ...    ...  \n",
              "99995              0.0           1.0    0.0  \n",
              "99996              0.0           0.0    0.0  \n",
              "99997              0.0           1.0    0.0  \n",
              "99998              0.0           1.0    0.0  \n",
              "99999              0.0           1.0    0.0  \n",
              "\n",
              "[100000 rows x 8 columns]"
            ]
          },
          "execution_count": 24,
          "metadata": {},
          "output_type": "execute_result"
        }
      ],
      "source": [
        "sampled_df= df.sample(n=sample_size, random_state=42, ignore_index=True)\n",
        "x = sampled_df.drop(['fraud'], axis=1)\n",
        "y =sampled_df['fraud']\n",
        "\n",
        "sampled_df"
      ]
    },
    {
      "cell_type": "markdown",
      "metadata": {
        "id": "umjWR7bCpjBM"
      },
      "source": [
        " Y normalizamos nuestras características para mejorar el rendimiento de k-means."
      ]
    },
    {
      "cell_type": "code",
      "execution_count": null,
      "metadata": {
        "id": "E59C6Pis7Z3f"
      },
      "outputs": [],
      "source": [
        "scaler = StandardScaler()\n",
        "scaled_x = scaler.fit_transform(x )"
      ]
    },
    {
      "cell_type": "markdown",
      "metadata": {
        "id": "VjUDK1rK1WSo"
      },
      "source": [
        "**Entrenamiento del modelo KMeans:**\n",
        "\n",
        "Utilizamos el algoritmo KMeans para agrupar las transacciones en dos clusters basados en las características seleccionadas.\n",
        "Agrupamos las clases a los datos normalizados y ajustamos el modelo.\n"
      ]
    },
    {
      "cell_type": "code",
      "execution_count": null,
      "metadata": {
        "colab": {
          "base_uri": "https://localhost:8080/"
        },
        "id": "w_UDdAeR6Kfz",
        "outputId": "2e24cb35-6a3c-4e1f-fbb3-9877e3a79eb3"
      },
      "outputs": [
        {
          "name": "stderr",
          "output_type": "stream",
          "text": [
            "/usr/local/lib/python3.10/dist-packages/sklearn/cluster/_kmeans.py:870: FutureWarning: The default value of `n_init` will change from 10 to 'auto' in 1.4. Set the value of `n_init` explicitly to suppress the warning\n",
            "  warnings.warn(\n",
            "/usr/local/lib/python3.10/dist-packages/sklearn/cluster/_kmeans.py:870: FutureWarning: The default value of `n_init` will change from 10 to 'auto' in 1.4. Set the value of `n_init` explicitly to suppress the warning\n",
            "  warnings.warn(\n"
          ]
        },
        {
          "data": {
            "text/plain": [
              "array([0, 0, 1, ..., 1, 1, 1], dtype=int32)"
            ]
          },
          "execution_count": 26,
          "metadata": {},
          "output_type": "execute_result"
        }
      ],
      "source": [
        "modelo_kmeans = KMeans(init='k-means++', n_clusters=2, random_state=42)\n",
        "modelo_kmeans=modelo_kmeans.fit(scaled_x)\n",
        "\n",
        "y_pred=modelo_kmeans.fit_predict(scaled_x)\n",
        "y_pred\n"
      ]
    },
    {
      "cell_type": "code",
      "execution_count": null,
      "metadata": {
        "colab": {
          "base_uri": "https://localhost:8080/"
        },
        "id": "5gUR5qAgEvj9",
        "outputId": "937253c0-aa95-4178-9779-ee9f4bb75743"
      },
      "outputs": [
        {
          "data": {
            "text/plain": [
              "1    88101\n",
              "0    11899\n",
              "dtype: int64"
            ]
          },
          "execution_count": 31,
          "metadata": {},
          "output_type": "execute_result"
        }
      ],
      "source": [
        "valores_pred = pd.Series(y_pred)\n",
        "valores_pred.value_counts()"
      ]
    },
    {
      "cell_type": "code",
      "execution_count": null,
      "metadata": {
        "colab": {
          "base_uri": "https://localhost:8080/"
        },
        "id": "JGDRBnB6BGSz",
        "outputId": "b41949db-8907-44b7-8555-5e96ff90f466"
      },
      "outputs": [
        {
          "data": {
            "text/plain": [
              "0.0    91297\n",
              "1.0     8703\n",
              "Name: fraud, dtype: int64"
            ]
          },
          "execution_count": 32,
          "metadata": {},
          "output_type": "execute_result"
        }
      ],
      "source": [
        "sampled_df['fraud'].value_counts()"
      ]
    },
    {
      "cell_type": "code",
      "execution_count": null,
      "metadata": {
        "colab": {
          "base_uri": "https://localhost:8080/",
          "height": 444
        },
        "id": "bpfABgmIrCO7",
        "outputId": "94083258-ab29-4f2c-c327-772fcadc9c71"
      },
      "outputs": [
        {
          "data": {
            "text/html": [
              "\n",
              "  <div id=\"df-d6e879f8-ddfb-4eef-a17e-cedf02a085c5\" class=\"colab-df-container\">\n",
              "    <div>\n",
              "<style scoped>\n",
              "    .dataframe tbody tr th:only-of-type {\n",
              "        vertical-align: middle;\n",
              "    }\n",
              "\n",
              "    .dataframe tbody tr th {\n",
              "        vertical-align: top;\n",
              "    }\n",
              "\n",
              "    .dataframe thead th {\n",
              "        text-align: right;\n",
              "    }\n",
              "</style>\n",
              "<table border=\"1\" class=\"dataframe\">\n",
              "  <thead>\n",
              "    <tr style=\"text-align: right;\">\n",
              "      <th></th>\n",
              "      <th>distance_from_home</th>\n",
              "      <th>distance_from_last_transaction</th>\n",
              "      <th>ratio_to_median_purchase_price</th>\n",
              "      <th>repeat_retailer</th>\n",
              "      <th>used_chip</th>\n",
              "      <th>used_pin_number</th>\n",
              "      <th>online_order</th>\n",
              "      <th>fraud</th>\n",
              "      <th>y_pred</th>\n",
              "    </tr>\n",
              "  </thead>\n",
              "  <tbody>\n",
              "    <tr>\n",
              "      <th>0</th>\n",
              "      <td>0.929509</td>\n",
              "      <td>1.296477</td>\n",
              "      <td>0.361110</td>\n",
              "      <td>0.0</td>\n",
              "      <td>0.0</td>\n",
              "      <td>0.0</td>\n",
              "      <td>1.0</td>\n",
              "      <td>0.0</td>\n",
              "      <td>0</td>\n",
              "    </tr>\n",
              "    <tr>\n",
              "      <th>1</th>\n",
              "      <td>0.611179</td>\n",
              "      <td>0.208295</td>\n",
              "      <td>3.118884</td>\n",
              "      <td>0.0</td>\n",
              "      <td>0.0</td>\n",
              "      <td>0.0</td>\n",
              "      <td>1.0</td>\n",
              "      <td>0.0</td>\n",
              "      <td>0</td>\n",
              "    </tr>\n",
              "    <tr>\n",
              "      <th>2</th>\n",
              "      <td>3.956062</td>\n",
              "      <td>0.529194</td>\n",
              "      <td>1.579942</td>\n",
              "      <td>1.0</td>\n",
              "      <td>0.0</td>\n",
              "      <td>0.0</td>\n",
              "      <td>0.0</td>\n",
              "      <td>0.0</td>\n",
              "      <td>1</td>\n",
              "    </tr>\n",
              "    <tr>\n",
              "      <th>3</th>\n",
              "      <td>21.798902</td>\n",
              "      <td>0.019399</td>\n",
              "      <td>11.416909</td>\n",
              "      <td>1.0</td>\n",
              "      <td>0.0</td>\n",
              "      <td>0.0</td>\n",
              "      <td>0.0</td>\n",
              "      <td>0.0</td>\n",
              "      <td>1</td>\n",
              "    </tr>\n",
              "    <tr>\n",
              "      <th>4</th>\n",
              "      <td>3.310635</td>\n",
              "      <td>1.707802</td>\n",
              "      <td>2.028915</td>\n",
              "      <td>1.0</td>\n",
              "      <td>0.0</td>\n",
              "      <td>0.0</td>\n",
              "      <td>0.0</td>\n",
              "      <td>0.0</td>\n",
              "      <td>1</td>\n",
              "    </tr>\n",
              "    <tr>\n",
              "      <th>...</th>\n",
              "      <td>...</td>\n",
              "      <td>...</td>\n",
              "      <td>...</td>\n",
              "      <td>...</td>\n",
              "      <td>...</td>\n",
              "      <td>...</td>\n",
              "      <td>...</td>\n",
              "      <td>...</td>\n",
              "      <td>...</td>\n",
              "    </tr>\n",
              "    <tr>\n",
              "      <th>99995</th>\n",
              "      <td>5.196402</td>\n",
              "      <td>1.306204</td>\n",
              "      <td>1.133054</td>\n",
              "      <td>1.0</td>\n",
              "      <td>0.0</td>\n",
              "      <td>0.0</td>\n",
              "      <td>1.0</td>\n",
              "      <td>0.0</td>\n",
              "      <td>1</td>\n",
              "    </tr>\n",
              "    <tr>\n",
              "      <th>99996</th>\n",
              "      <td>56.279883</td>\n",
              "      <td>0.152974</td>\n",
              "      <td>0.277104</td>\n",
              "      <td>1.0</td>\n",
              "      <td>0.0</td>\n",
              "      <td>0.0</td>\n",
              "      <td>0.0</td>\n",
              "      <td>0.0</td>\n",
              "      <td>1</td>\n",
              "    </tr>\n",
              "    <tr>\n",
              "      <th>99997</th>\n",
              "      <td>28.424613</td>\n",
              "      <td>0.466520</td>\n",
              "      <td>1.577858</td>\n",
              "      <td>1.0</td>\n",
              "      <td>1.0</td>\n",
              "      <td>0.0</td>\n",
              "      <td>1.0</td>\n",
              "      <td>0.0</td>\n",
              "      <td>1</td>\n",
              "    </tr>\n",
              "    <tr>\n",
              "      <th>99998</th>\n",
              "      <td>26.574444</td>\n",
              "      <td>2.679191</td>\n",
              "      <td>1.471028</td>\n",
              "      <td>1.0</td>\n",
              "      <td>0.0</td>\n",
              "      <td>0.0</td>\n",
              "      <td>1.0</td>\n",
              "      <td>0.0</td>\n",
              "      <td>1</td>\n",
              "    </tr>\n",
              "    <tr>\n",
              "      <th>99999</th>\n",
              "      <td>9.675074</td>\n",
              "      <td>3.578603</td>\n",
              "      <td>1.676146</td>\n",
              "      <td>1.0</td>\n",
              "      <td>0.0</td>\n",
              "      <td>0.0</td>\n",
              "      <td>1.0</td>\n",
              "      <td>0.0</td>\n",
              "      <td>1</td>\n",
              "    </tr>\n",
              "  </tbody>\n",
              "</table>\n",
              "<p>100000 rows × 9 columns</p>\n",
              "</div>\n",
              "    <div class=\"colab-df-buttons\">\n",
              "\n",
              "  <div class=\"colab-df-container\">\n",
              "    <button class=\"colab-df-convert\" onclick=\"convertToInteractive('df-d6e879f8-ddfb-4eef-a17e-cedf02a085c5')\"\n",
              "            title=\"Convert this dataframe to an interactive table.\"\n",
              "            style=\"display:none;\">\n",
              "\n",
              "  <svg xmlns=\"http://www.w3.org/2000/svg\" height=\"24px\" viewBox=\"0 -960 960 960\">\n",
              "    <path d=\"M120-120v-720h720v720H120Zm60-500h600v-160H180v160Zm220 220h160v-160H400v160Zm0 220h160v-160H400v160ZM180-400h160v-160H180v160Zm440 0h160v-160H620v160ZM180-180h160v-160H180v160Zm440 0h160v-160H620v160Z\"/>\n",
              "  </svg>\n",
              "    </button>\n",
              "\n",
              "  <style>\n",
              "    .colab-df-container {\n",
              "      display:flex;\n",
              "      gap: 12px;\n",
              "    }\n",
              "\n",
              "    .colab-df-convert {\n",
              "      background-color: #E8F0FE;\n",
              "      border: none;\n",
              "      border-radius: 50%;\n",
              "      cursor: pointer;\n",
              "      display: none;\n",
              "      fill: #1967D2;\n",
              "      height: 32px;\n",
              "      padding: 0 0 0 0;\n",
              "      width: 32px;\n",
              "    }\n",
              "\n",
              "    .colab-df-convert:hover {\n",
              "      background-color: #E2EBFA;\n",
              "      box-shadow: 0px 1px 2px rgba(60, 64, 67, 0.3), 0px 1px 3px 1px rgba(60, 64, 67, 0.15);\n",
              "      fill: #174EA6;\n",
              "    }\n",
              "\n",
              "    .colab-df-buttons div {\n",
              "      margin-bottom: 4px;\n",
              "    }\n",
              "\n",
              "    [theme=dark] .colab-df-convert {\n",
              "      background-color: #3B4455;\n",
              "      fill: #D2E3FC;\n",
              "    }\n",
              "\n",
              "    [theme=dark] .colab-df-convert:hover {\n",
              "      background-color: #434B5C;\n",
              "      box-shadow: 0px 1px 3px 1px rgba(0, 0, 0, 0.15);\n",
              "      filter: drop-shadow(0px 1px 2px rgba(0, 0, 0, 0.3));\n",
              "      fill: #FFFFFF;\n",
              "    }\n",
              "  </style>\n",
              "\n",
              "    <script>\n",
              "      const buttonEl =\n",
              "        document.querySelector('#df-d6e879f8-ddfb-4eef-a17e-cedf02a085c5 button.colab-df-convert');\n",
              "      buttonEl.style.display =\n",
              "        google.colab.kernel.accessAllowed ? 'block' : 'none';\n",
              "\n",
              "      async function convertToInteractive(key) {\n",
              "        const element = document.querySelector('#df-d6e879f8-ddfb-4eef-a17e-cedf02a085c5');\n",
              "        const dataTable =\n",
              "          await google.colab.kernel.invokeFunction('convertToInteractive',\n",
              "                                                    [key], {});\n",
              "        if (!dataTable) return;\n",
              "\n",
              "        const docLinkHtml = 'Like what you see? Visit the ' +\n",
              "          '<a target=\"_blank\" href=https://colab.research.google.com/notebooks/data_table.ipynb>data table notebook</a>'\n",
              "          + ' to learn more about interactive tables.';\n",
              "        element.innerHTML = '';\n",
              "        dataTable['output_type'] = 'display_data';\n",
              "        await google.colab.output.renderOutput(dataTable, element);\n",
              "        const docLink = document.createElement('div');\n",
              "        docLink.innerHTML = docLinkHtml;\n",
              "        element.appendChild(docLink);\n",
              "      }\n",
              "    </script>\n",
              "  </div>\n",
              "\n",
              "\n",
              "<div id=\"df-9e6f3fd7-fb53-4ec9-a4ed-7fe45c91179e\">\n",
              "  <button class=\"colab-df-quickchart\" onclick=\"quickchart('df-9e6f3fd7-fb53-4ec9-a4ed-7fe45c91179e')\"\n",
              "            title=\"Suggest charts\"\n",
              "            style=\"display:none;\">\n",
              "\n",
              "<svg xmlns=\"http://www.w3.org/2000/svg\" height=\"24px\"viewBox=\"0 0 24 24\"\n",
              "     width=\"24px\">\n",
              "    <g>\n",
              "        <path d=\"M19 3H5c-1.1 0-2 .9-2 2v14c0 1.1.9 2 2 2h14c1.1 0 2-.9 2-2V5c0-1.1-.9-2-2-2zM9 17H7v-7h2v7zm4 0h-2V7h2v10zm4 0h-2v-4h2v4z\"/>\n",
              "    </g>\n",
              "</svg>\n",
              "  </button>\n",
              "\n",
              "<style>\n",
              "  .colab-df-quickchart {\n",
              "      --bg-color: #E8F0FE;\n",
              "      --fill-color: #1967D2;\n",
              "      --hover-bg-color: #E2EBFA;\n",
              "      --hover-fill-color: #174EA6;\n",
              "      --disabled-fill-color: #AAA;\n",
              "      --disabled-bg-color: #DDD;\n",
              "  }\n",
              "\n",
              "  [theme=dark] .colab-df-quickchart {\n",
              "      --bg-color: #3B4455;\n",
              "      --fill-color: #D2E3FC;\n",
              "      --hover-bg-color: #434B5C;\n",
              "      --hover-fill-color: #FFFFFF;\n",
              "      --disabled-bg-color: #3B4455;\n",
              "      --disabled-fill-color: #666;\n",
              "  }\n",
              "\n",
              "  .colab-df-quickchart {\n",
              "    background-color: var(--bg-color);\n",
              "    border: none;\n",
              "    border-radius: 50%;\n",
              "    cursor: pointer;\n",
              "    display: none;\n",
              "    fill: var(--fill-color);\n",
              "    height: 32px;\n",
              "    padding: 0;\n",
              "    width: 32px;\n",
              "  }\n",
              "\n",
              "  .colab-df-quickchart:hover {\n",
              "    background-color: var(--hover-bg-color);\n",
              "    box-shadow: 0 1px 2px rgba(60, 64, 67, 0.3), 0 1px 3px 1px rgba(60, 64, 67, 0.15);\n",
              "    fill: var(--button-hover-fill-color);\n",
              "  }\n",
              "\n",
              "  .colab-df-quickchart-complete:disabled,\n",
              "  .colab-df-quickchart-complete:disabled:hover {\n",
              "    background-color: var(--disabled-bg-color);\n",
              "    fill: var(--disabled-fill-color);\n",
              "    box-shadow: none;\n",
              "  }\n",
              "\n",
              "  .colab-df-spinner {\n",
              "    border: 2px solid var(--fill-color);\n",
              "    border-color: transparent;\n",
              "    border-bottom-color: var(--fill-color);\n",
              "    animation:\n",
              "      spin 1s steps(1) infinite;\n",
              "  }\n",
              "\n",
              "  @keyframes spin {\n",
              "    0% {\n",
              "      border-color: transparent;\n",
              "      border-bottom-color: var(--fill-color);\n",
              "      border-left-color: var(--fill-color);\n",
              "    }\n",
              "    20% {\n",
              "      border-color: transparent;\n",
              "      border-left-color: var(--fill-color);\n",
              "      border-top-color: var(--fill-color);\n",
              "    }\n",
              "    30% {\n",
              "      border-color: transparent;\n",
              "      border-left-color: var(--fill-color);\n",
              "      border-top-color: var(--fill-color);\n",
              "      border-right-color: var(--fill-color);\n",
              "    }\n",
              "    40% {\n",
              "      border-color: transparent;\n",
              "      border-right-color: var(--fill-color);\n",
              "      border-top-color: var(--fill-color);\n",
              "    }\n",
              "    60% {\n",
              "      border-color: transparent;\n",
              "      border-right-color: var(--fill-color);\n",
              "    }\n",
              "    80% {\n",
              "      border-color: transparent;\n",
              "      border-right-color: var(--fill-color);\n",
              "      border-bottom-color: var(--fill-color);\n",
              "    }\n",
              "    90% {\n",
              "      border-color: transparent;\n",
              "      border-bottom-color: var(--fill-color);\n",
              "    }\n",
              "  }\n",
              "</style>\n",
              "\n",
              "  <script>\n",
              "    async function quickchart(key) {\n",
              "      const quickchartButtonEl =\n",
              "        document.querySelector('#' + key + ' button');\n",
              "      quickchartButtonEl.disabled = true;  // To prevent multiple clicks.\n",
              "      quickchartButtonEl.classList.add('colab-df-spinner');\n",
              "      try {\n",
              "        const charts = await google.colab.kernel.invokeFunction(\n",
              "            'suggestCharts', [key], {});\n",
              "      } catch (error) {\n",
              "        console.error('Error during call to suggestCharts:', error);\n",
              "      }\n",
              "      quickchartButtonEl.classList.remove('colab-df-spinner');\n",
              "      quickchartButtonEl.classList.add('colab-df-quickchart-complete');\n",
              "    }\n",
              "    (() => {\n",
              "      let quickchartButtonEl =\n",
              "        document.querySelector('#df-9e6f3fd7-fb53-4ec9-a4ed-7fe45c91179e button');\n",
              "      quickchartButtonEl.style.display =\n",
              "        google.colab.kernel.accessAllowed ? 'block' : 'none';\n",
              "    })();\n",
              "  </script>\n",
              "</div>\n",
              "\n",
              "  <div id=\"id_ccd661b1-ba93-4da3-8725-4d2b45b98928\">\n",
              "    <style>\n",
              "      .colab-df-generate {\n",
              "        background-color: #E8F0FE;\n",
              "        border: none;\n",
              "        border-radius: 50%;\n",
              "        cursor: pointer;\n",
              "        display: none;\n",
              "        fill: #1967D2;\n",
              "        height: 32px;\n",
              "        padding: 0 0 0 0;\n",
              "        width: 32px;\n",
              "      }\n",
              "\n",
              "      .colab-df-generate:hover {\n",
              "        background-color: #E2EBFA;\n",
              "        box-shadow: 0px 1px 2px rgba(60, 64, 67, 0.3), 0px 1px 3px 1px rgba(60, 64, 67, 0.15);\n",
              "        fill: #174EA6;\n",
              "      }\n",
              "\n",
              "      [theme=dark] .colab-df-generate {\n",
              "        background-color: #3B4455;\n",
              "        fill: #D2E3FC;\n",
              "      }\n",
              "\n",
              "      [theme=dark] .colab-df-generate:hover {\n",
              "        background-color: #434B5C;\n",
              "        box-shadow: 0px 1px 3px 1px rgba(0, 0, 0, 0.15);\n",
              "        filter: drop-shadow(0px 1px 2px rgba(0, 0, 0, 0.3));\n",
              "        fill: #FFFFFF;\n",
              "      }\n",
              "    </style>\n",
              "    <button class=\"colab-df-generate\" onclick=\"generateWithVariable('df_1')\"\n",
              "            title=\"Generate code using this dataframe.\"\n",
              "            style=\"display:none;\">\n",
              "\n",
              "  <svg xmlns=\"http://www.w3.org/2000/svg\" height=\"24px\"viewBox=\"0 0 24 24\"\n",
              "       width=\"24px\">\n",
              "    <path d=\"M7,19H8.4L18.45,9,17,7.55,7,17.6ZM5,21V16.75L18.45,3.32a2,2,0,0,1,2.83,0l1.4,1.43a1.91,1.91,0,0,1,.58,1.4,1.91,1.91,0,0,1-.58,1.4L9.25,21ZM18.45,9,17,7.55Zm-12,3A5.31,5.31,0,0,0,4.9,8.1,5.31,5.31,0,0,0,1,6.5,5.31,5.31,0,0,0,4.9,4.9,5.31,5.31,0,0,0,6.5,1,5.31,5.31,0,0,0,8.1,4.9,5.31,5.31,0,0,0,12,6.5,5.46,5.46,0,0,0,6.5,12Z\"/>\n",
              "  </svg>\n",
              "    </button>\n",
              "    <script>\n",
              "      (() => {\n",
              "      const buttonEl =\n",
              "        document.querySelector('#id_ccd661b1-ba93-4da3-8725-4d2b45b98928 button.colab-df-generate');\n",
              "      buttonEl.style.display =\n",
              "        google.colab.kernel.accessAllowed ? 'block' : 'none';\n",
              "\n",
              "      buttonEl.onclick = () => {\n",
              "        google.colab.notebook.generateWithVariable('df_1');\n",
              "      }\n",
              "      })();\n",
              "    </script>\n",
              "  </div>\n",
              "\n",
              "    </div>\n",
              "  </div>\n"
            ],
            "text/plain": [
              "       distance_from_home  distance_from_last_transaction  \\\n",
              "0                0.929509                        1.296477   \n",
              "1                0.611179                        0.208295   \n",
              "2                3.956062                        0.529194   \n",
              "3               21.798902                        0.019399   \n",
              "4                3.310635                        1.707802   \n",
              "...                   ...                             ...   \n",
              "99995            5.196402                        1.306204   \n",
              "99996           56.279883                        0.152974   \n",
              "99997           28.424613                        0.466520   \n",
              "99998           26.574444                        2.679191   \n",
              "99999            9.675074                        3.578603   \n",
              "\n",
              "       ratio_to_median_purchase_price  repeat_retailer  used_chip  \\\n",
              "0                            0.361110              0.0        0.0   \n",
              "1                            3.118884              0.0        0.0   \n",
              "2                            1.579942              1.0        0.0   \n",
              "3                           11.416909              1.0        0.0   \n",
              "4                            2.028915              1.0        0.0   \n",
              "...                               ...              ...        ...   \n",
              "99995                        1.133054              1.0        0.0   \n",
              "99996                        0.277104              1.0        0.0   \n",
              "99997                        1.577858              1.0        1.0   \n",
              "99998                        1.471028              1.0        0.0   \n",
              "99999                        1.676146              1.0        0.0   \n",
              "\n",
              "       used_pin_number  online_order  fraud  y_pred  \n",
              "0                  0.0           1.0    0.0       0  \n",
              "1                  0.0           1.0    0.0       0  \n",
              "2                  0.0           0.0    0.0       1  \n",
              "3                  0.0           0.0    0.0       1  \n",
              "4                  0.0           0.0    0.0       1  \n",
              "...                ...           ...    ...     ...  \n",
              "99995              0.0           1.0    0.0       1  \n",
              "99996              0.0           0.0    0.0       1  \n",
              "99997              0.0           1.0    0.0       1  \n",
              "99998              0.0           1.0    0.0       1  \n",
              "99999              0.0           1.0    0.0       1  \n",
              "\n",
              "[100000 rows x 9 columns]"
            ]
          },
          "execution_count": 33,
          "metadata": {},
          "output_type": "execute_result"
        }
      ],
      "source": [
        "df_1 = sampled_df.copy()\n",
        "df_1['y_pred'] = y_pred\n",
        "df_1['y_pred'] = df_1['y_pred']\n",
        "\n",
        "df_1"
      ]
    },
    {
      "cell_type": "code",
      "execution_count": null,
      "metadata": {
        "colab": {
          "base_uri": "https://localhost:8080/",
          "height": 143
        },
        "id": "qkutqXuLEAfX",
        "outputId": "ca1752c4-b28b-468f-9ed3-da285d5ee12e"
      },
      "outputs": [
        {
          "data": {
            "text/html": [
              "\n",
              "  <div id=\"df-14fb44bf-eab2-4cd3-a4d9-0190549b08c4\" class=\"colab-df-container\">\n",
              "    <div>\n",
              "<style scoped>\n",
              "    .dataframe tbody tr th:only-of-type {\n",
              "        vertical-align: middle;\n",
              "    }\n",
              "\n",
              "    .dataframe tbody tr th {\n",
              "        vertical-align: top;\n",
              "    }\n",
              "\n",
              "    .dataframe thead th {\n",
              "        text-align: right;\n",
              "    }\n",
              "</style>\n",
              "<table border=\"1\" class=\"dataframe\">\n",
              "  <thead>\n",
              "    <tr style=\"text-align: right;\">\n",
              "      <th>y_pred</th>\n",
              "      <th>0</th>\n",
              "      <th>1</th>\n",
              "    </tr>\n",
              "    <tr>\n",
              "      <th>fraud</th>\n",
              "      <th></th>\n",
              "      <th></th>\n",
              "    </tr>\n",
              "  </thead>\n",
              "  <tbody>\n",
              "    <tr>\n",
              "      <th>0.0</th>\n",
              "      <td>10866</td>\n",
              "      <td>80431</td>\n",
              "    </tr>\n",
              "    <tr>\n",
              "      <th>1.0</th>\n",
              "      <td>1033</td>\n",
              "      <td>7670</td>\n",
              "    </tr>\n",
              "  </tbody>\n",
              "</table>\n",
              "</div>\n",
              "    <div class=\"colab-df-buttons\">\n",
              "\n",
              "  <div class=\"colab-df-container\">\n",
              "    <button class=\"colab-df-convert\" onclick=\"convertToInteractive('df-14fb44bf-eab2-4cd3-a4d9-0190549b08c4')\"\n",
              "            title=\"Convert this dataframe to an interactive table.\"\n",
              "            style=\"display:none;\">\n",
              "\n",
              "  <svg xmlns=\"http://www.w3.org/2000/svg\" height=\"24px\" viewBox=\"0 -960 960 960\">\n",
              "    <path d=\"M120-120v-720h720v720H120Zm60-500h600v-160H180v160Zm220 220h160v-160H400v160Zm0 220h160v-160H400v160ZM180-400h160v-160H180v160Zm440 0h160v-160H620v160ZM180-180h160v-160H180v160Zm440 0h160v-160H620v160Z\"/>\n",
              "  </svg>\n",
              "    </button>\n",
              "\n",
              "  <style>\n",
              "    .colab-df-container {\n",
              "      display:flex;\n",
              "      gap: 12px;\n",
              "    }\n",
              "\n",
              "    .colab-df-convert {\n",
              "      background-color: #E8F0FE;\n",
              "      border: none;\n",
              "      border-radius: 50%;\n",
              "      cursor: pointer;\n",
              "      display: none;\n",
              "      fill: #1967D2;\n",
              "      height: 32px;\n",
              "      padding: 0 0 0 0;\n",
              "      width: 32px;\n",
              "    }\n",
              "\n",
              "    .colab-df-convert:hover {\n",
              "      background-color: #E2EBFA;\n",
              "      box-shadow: 0px 1px 2px rgba(60, 64, 67, 0.3), 0px 1px 3px 1px rgba(60, 64, 67, 0.15);\n",
              "      fill: #174EA6;\n",
              "    }\n",
              "\n",
              "    .colab-df-buttons div {\n",
              "      margin-bottom: 4px;\n",
              "    }\n",
              "\n",
              "    [theme=dark] .colab-df-convert {\n",
              "      background-color: #3B4455;\n",
              "      fill: #D2E3FC;\n",
              "    }\n",
              "\n",
              "    [theme=dark] .colab-df-convert:hover {\n",
              "      background-color: #434B5C;\n",
              "      box-shadow: 0px 1px 3px 1px rgba(0, 0, 0, 0.15);\n",
              "      filter: drop-shadow(0px 1px 2px rgba(0, 0, 0, 0.3));\n",
              "      fill: #FFFFFF;\n",
              "    }\n",
              "  </style>\n",
              "\n",
              "    <script>\n",
              "      const buttonEl =\n",
              "        document.querySelector('#df-14fb44bf-eab2-4cd3-a4d9-0190549b08c4 button.colab-df-convert');\n",
              "      buttonEl.style.display =\n",
              "        google.colab.kernel.accessAllowed ? 'block' : 'none';\n",
              "\n",
              "      async function convertToInteractive(key) {\n",
              "        const element = document.querySelector('#df-14fb44bf-eab2-4cd3-a4d9-0190549b08c4');\n",
              "        const dataTable =\n",
              "          await google.colab.kernel.invokeFunction('convertToInteractive',\n",
              "                                                    [key], {});\n",
              "        if (!dataTable) return;\n",
              "\n",
              "        const docLinkHtml = 'Like what you see? Visit the ' +\n",
              "          '<a target=\"_blank\" href=https://colab.research.google.com/notebooks/data_table.ipynb>data table notebook</a>'\n",
              "          + ' to learn more about interactive tables.';\n",
              "        element.innerHTML = '';\n",
              "        dataTable['output_type'] = 'display_data';\n",
              "        await google.colab.output.renderOutput(dataTable, element);\n",
              "        const docLink = document.createElement('div');\n",
              "        docLink.innerHTML = docLinkHtml;\n",
              "        element.appendChild(docLink);\n",
              "      }\n",
              "    </script>\n",
              "  </div>\n",
              "\n",
              "\n",
              "<div id=\"df-45cca873-e17e-4ba4-8316-2073861bd5aa\">\n",
              "  <button class=\"colab-df-quickchart\" onclick=\"quickchart('df-45cca873-e17e-4ba4-8316-2073861bd5aa')\"\n",
              "            title=\"Suggest charts\"\n",
              "            style=\"display:none;\">\n",
              "\n",
              "<svg xmlns=\"http://www.w3.org/2000/svg\" height=\"24px\"viewBox=\"0 0 24 24\"\n",
              "     width=\"24px\">\n",
              "    <g>\n",
              "        <path d=\"M19 3H5c-1.1 0-2 .9-2 2v14c0 1.1.9 2 2 2h14c1.1 0 2-.9 2-2V5c0-1.1-.9-2-2-2zM9 17H7v-7h2v7zm4 0h-2V7h2v10zm4 0h-2v-4h2v4z\"/>\n",
              "    </g>\n",
              "</svg>\n",
              "  </button>\n",
              "\n",
              "<style>\n",
              "  .colab-df-quickchart {\n",
              "      --bg-color: #E8F0FE;\n",
              "      --fill-color: #1967D2;\n",
              "      --hover-bg-color: #E2EBFA;\n",
              "      --hover-fill-color: #174EA6;\n",
              "      --disabled-fill-color: #AAA;\n",
              "      --disabled-bg-color: #DDD;\n",
              "  }\n",
              "\n",
              "  [theme=dark] .colab-df-quickchart {\n",
              "      --bg-color: #3B4455;\n",
              "      --fill-color: #D2E3FC;\n",
              "      --hover-bg-color: #434B5C;\n",
              "      --hover-fill-color: #FFFFFF;\n",
              "      --disabled-bg-color: #3B4455;\n",
              "      --disabled-fill-color: #666;\n",
              "  }\n",
              "\n",
              "  .colab-df-quickchart {\n",
              "    background-color: var(--bg-color);\n",
              "    border: none;\n",
              "    border-radius: 50%;\n",
              "    cursor: pointer;\n",
              "    display: none;\n",
              "    fill: var(--fill-color);\n",
              "    height: 32px;\n",
              "    padding: 0;\n",
              "    width: 32px;\n",
              "  }\n",
              "\n",
              "  .colab-df-quickchart:hover {\n",
              "    background-color: var(--hover-bg-color);\n",
              "    box-shadow: 0 1px 2px rgba(60, 64, 67, 0.3), 0 1px 3px 1px rgba(60, 64, 67, 0.15);\n",
              "    fill: var(--button-hover-fill-color);\n",
              "  }\n",
              "\n",
              "  .colab-df-quickchart-complete:disabled,\n",
              "  .colab-df-quickchart-complete:disabled:hover {\n",
              "    background-color: var(--disabled-bg-color);\n",
              "    fill: var(--disabled-fill-color);\n",
              "    box-shadow: none;\n",
              "  }\n",
              "\n",
              "  .colab-df-spinner {\n",
              "    border: 2px solid var(--fill-color);\n",
              "    border-color: transparent;\n",
              "    border-bottom-color: var(--fill-color);\n",
              "    animation:\n",
              "      spin 1s steps(1) infinite;\n",
              "  }\n",
              "\n",
              "  @keyframes spin {\n",
              "    0% {\n",
              "      border-color: transparent;\n",
              "      border-bottom-color: var(--fill-color);\n",
              "      border-left-color: var(--fill-color);\n",
              "    }\n",
              "    20% {\n",
              "      border-color: transparent;\n",
              "      border-left-color: var(--fill-color);\n",
              "      border-top-color: var(--fill-color);\n",
              "    }\n",
              "    30% {\n",
              "      border-color: transparent;\n",
              "      border-left-color: var(--fill-color);\n",
              "      border-top-color: var(--fill-color);\n",
              "      border-right-color: var(--fill-color);\n",
              "    }\n",
              "    40% {\n",
              "      border-color: transparent;\n",
              "      border-right-color: var(--fill-color);\n",
              "      border-top-color: var(--fill-color);\n",
              "    }\n",
              "    60% {\n",
              "      border-color: transparent;\n",
              "      border-right-color: var(--fill-color);\n",
              "    }\n",
              "    80% {\n",
              "      border-color: transparent;\n",
              "      border-right-color: var(--fill-color);\n",
              "      border-bottom-color: var(--fill-color);\n",
              "    }\n",
              "    90% {\n",
              "      border-color: transparent;\n",
              "      border-bottom-color: var(--fill-color);\n",
              "    }\n",
              "  }\n",
              "</style>\n",
              "\n",
              "  <script>\n",
              "    async function quickchart(key) {\n",
              "      const quickchartButtonEl =\n",
              "        document.querySelector('#' + key + ' button');\n",
              "      quickchartButtonEl.disabled = true;  // To prevent multiple clicks.\n",
              "      quickchartButtonEl.classList.add('colab-df-spinner');\n",
              "      try {\n",
              "        const charts = await google.colab.kernel.invokeFunction(\n",
              "            'suggestCharts', [key], {});\n",
              "      } catch (error) {\n",
              "        console.error('Error during call to suggestCharts:', error);\n",
              "      }\n",
              "      quickchartButtonEl.classList.remove('colab-df-spinner');\n",
              "      quickchartButtonEl.classList.add('colab-df-quickchart-complete');\n",
              "    }\n",
              "    (() => {\n",
              "      let quickchartButtonEl =\n",
              "        document.querySelector('#df-45cca873-e17e-4ba4-8316-2073861bd5aa button');\n",
              "      quickchartButtonEl.style.display =\n",
              "        google.colab.kernel.accessAllowed ? 'block' : 'none';\n",
              "    })();\n",
              "  </script>\n",
              "</div>\n",
              "\n",
              "  <div id=\"id_916add97-ecf5-4908-8ec9-554f18047b43\">\n",
              "    <style>\n",
              "      .colab-df-generate {\n",
              "        background-color: #E8F0FE;\n",
              "        border: none;\n",
              "        border-radius: 50%;\n",
              "        cursor: pointer;\n",
              "        display: none;\n",
              "        fill: #1967D2;\n",
              "        height: 32px;\n",
              "        padding: 0 0 0 0;\n",
              "        width: 32px;\n",
              "      }\n",
              "\n",
              "      .colab-df-generate:hover {\n",
              "        background-color: #E2EBFA;\n",
              "        box-shadow: 0px 1px 2px rgba(60, 64, 67, 0.3), 0px 1px 3px 1px rgba(60, 64, 67, 0.15);\n",
              "        fill: #174EA6;\n",
              "      }\n",
              "\n",
              "      [theme=dark] .colab-df-generate {\n",
              "        background-color: #3B4455;\n",
              "        fill: #D2E3FC;\n",
              "      }\n",
              "\n",
              "      [theme=dark] .colab-df-generate:hover {\n",
              "        background-color: #434B5C;\n",
              "        box-shadow: 0px 1px 3px 1px rgba(0, 0, 0, 0.15);\n",
              "        filter: drop-shadow(0px 1px 2px rgba(0, 0, 0, 0.3));\n",
              "        fill: #FFFFFF;\n",
              "      }\n",
              "    </style>\n",
              "    <button class=\"colab-df-generate\" onclick=\"generateWithVariable('cross_tab')\"\n",
              "            title=\"Generate code using this dataframe.\"\n",
              "            style=\"display:none;\">\n",
              "\n",
              "  <svg xmlns=\"http://www.w3.org/2000/svg\" height=\"24px\"viewBox=\"0 0 24 24\"\n",
              "       width=\"24px\">\n",
              "    <path d=\"M7,19H8.4L18.45,9,17,7.55,7,17.6ZM5,21V16.75L18.45,3.32a2,2,0,0,1,2.83,0l1.4,1.43a1.91,1.91,0,0,1,.58,1.4,1.91,1.91,0,0,1-.58,1.4L9.25,21ZM18.45,9,17,7.55Zm-12,3A5.31,5.31,0,0,0,4.9,8.1,5.31,5.31,0,0,0,1,6.5,5.31,5.31,0,0,0,4.9,4.9,5.31,5.31,0,0,0,6.5,1,5.31,5.31,0,0,0,8.1,4.9,5.31,5.31,0,0,0,12,6.5,5.46,5.46,0,0,0,6.5,12Z\"/>\n",
              "  </svg>\n",
              "    </button>\n",
              "    <script>\n",
              "      (() => {\n",
              "      const buttonEl =\n",
              "        document.querySelector('#id_916add97-ecf5-4908-8ec9-554f18047b43 button.colab-df-generate');\n",
              "      buttonEl.style.display =\n",
              "        google.colab.kernel.accessAllowed ? 'block' : 'none';\n",
              "\n",
              "      buttonEl.onclick = () => {\n",
              "        google.colab.notebook.generateWithVariable('cross_tab');\n",
              "      }\n",
              "      })();\n",
              "    </script>\n",
              "  </div>\n",
              "\n",
              "    </div>\n",
              "  </div>\n"
            ],
            "text/plain": [
              "y_pred      0      1\n",
              "fraud               \n",
              "0.0     10866  80431\n",
              "1.0      1033   7670"
            ]
          },
          "execution_count": 35,
          "metadata": {},
          "output_type": "execute_result"
        }
      ],
      "source": [
        "df_1['fraud'].value_counts()\n",
        "df_1['y_pred'].value_counts()\n",
        "# create cross_tab to compare actual with predicted labels\n",
        "cross_tab = pd.crosstab(df_1['fraud'], df_1['y_pred'], margins=False)\n",
        "cross_tab\n"
      ]
    },
    {
      "cell_type": "code",
      "execution_count": null,
      "metadata": {
        "colab": {
          "base_uri": "https://localhost:8080/",
          "height": 545
        },
        "id": "c_ekuxAaAhVt",
        "outputId": "7ce662bd-5636-4d48-e596-6e7d9a1eda52"
      },
      "outputs": [
        {
          "data": {
            "image/png": "[encoded data removed]",
            "text/plain": [
              "<Figure size 800x600 with 2 Axes>"
            ]
          },
          "metadata": {},
          "output_type": "display_data"
        }
      ],
      "source": [
        "fig = plt.figure(figsize=(8, 6))\n",
        "\n",
        "fig = sns.heatmap(cross_tab,cmap=\"RdPu\", annot=True, fmt='.0f')\n",
        "\n",
        "fig.set_xlabel('Predicción')\n",
        "fig.set_ylabel('Verdaderos')\n",
        "plt.show()"
      ]
    },
    {
      "cell_type": "markdown",
      "metadata": {
        "id": "66o06YTg0oUN"
      },
      "source": [
        "Clase 0 (fraude) y Grupo 0 (Etiquetas previstas):\n",
        "De las  91297 muestras de la clase 0, 10866 estan agrupadas correctamente en el Grupo 0.\n",
        "Sin embargo, 80431  muestras de la clase 0 están clasificadas erróneamente en el Grupo 1.\n",
        "\n",
        "Clase 1 (Objetivos) y Grupo 1 (Predicciónes):\n",
        "De las 8.703 muestras de la clase 1, sólo 7670 están agrupadas correctamente en el Grupo 1.\n",
        "Sin embargo, 1033 muestras de la clase 1 están clasificadas erróneamente en el Grupo 0."
      ]
    },
    {
      "cell_type": "markdown",
      "metadata": {
        "id": "rTgBaqvLBBJa"
      },
      "source": [
        "**Validación del modelo:**\n",
        "\n",
        "Para validar nuestro modelo, aplicamos el indice de Rand ajustado o el índice de Jaccard ajustado. Estas métricas comparan las etiquetas verdaderas con las asignaciones de cluster hechas por KMeans y proporcionan una medida de que tan similares son."
      ]
    },
    {
      "cell_type": "code",
      "execution_count": null,
      "metadata": {
        "colab": {
          "base_uri": "https://localhost:8080/"
        },
        "id": "r9YF1T9uxqXG",
        "outputId": "1d3d3107-1da6-479c-f73d-379708af60b5"
      },
      "outputs": [
        {
          "name": "stdout",
          "output_type": "stream",
          "text": [
            "Índice de Rand ajustado: -0.00021647119735603286\n",
            "Índice de Jaccard ajustado: -0.00021647119735603286\n"
          ]
        }
      ],
      "source": [
        "\n",
        "from sklearn.cluster import KMeans\n",
        "from sklearn.metrics import adjusted_rand_score, adjusted_rand_score\n",
        "import numpy as np\n",
        "\n",
        "# Calcular el índice de Rand ajustado\n",
        "ari = adjusted_rand_score(y, y_pred)\n",
        "print(\"Índice de Rand ajustado:\", ari)"
      ]
    },
    {
      "cell_type": "markdown",
      "metadata": {
        "id": "tXEOMUI4tCu5"
      },
      "source": [
        "Esta métrica devuelve un valor entre -1 y 1, donde 1 indica una perfecta concordancia entre las asignaciones de cluster y las etiquetas verdaderas, 0 indica una concordancia aleatoria y -1 indica una discordancia completa. Nuestros indice nos dieron resultados negativos, por lo que existe evidencia de discordancia en clustering.\n",
        "\n",
        "Si bien KMeans no es el algoritmo más adecuado para la detección de fraudes en datos etiquetados, por ello decidimos combinar el modelo kmeans con regresión logistica para obtener mejores resultados."
      ]
    },
    {
      "cell_type": "markdown",
      "metadata": {
        "id": "tDOxscnktH5L"
      },
      "source": [
        "###**CLUSTERING CON KMEANS + REGRESIÓN LOGISTICA**"
      ]
    },
    {
      "cell_type": "markdown",
      "metadata": {
        "id": "1d7EWcuVtSD-"
      },
      "source": [
        "En el siguiente código usamos 2 clusters y agregamos etiquetas a nuestro dataset."
      ]
    },
    {
      "cell_type": "code",
      "execution_count": null,
      "metadata": {
        "colab": {
          "base_uri": "https://localhost:8080/"
        },
        "id": "toLRUoYhtBj-",
        "outputId": "4c4b939e-7cbb-43ba-ea65-b327178e385f"
      },
      "outputs": [
        {
          "name": "stderr",
          "output_type": "stream",
          "text": [
            "/usr/local/lib/python3.10/dist-packages/sklearn/cluster/_kmeans.py:870: FutureWarning: The default value of `n_init` will change from 10 to 'auto' in 1.4. Set the value of `n_init` explicitly to suppress the warning\n",
            "  warnings.warn(\n",
            "/usr/local/lib/python3.10/dist-packages/sklearn/cluster/_kmeans.py:870: FutureWarning: The default value of `n_init` will change from 10 to 'auto' in 1.4. Set the value of `n_init` explicitly to suppress the warning\n",
            "  warnings.warn(\n"
          ]
        }
      ],
      "source": [
        "import numpy as np\n",
        "from sklearn.cluster import KMeans\n",
        "from sklearn.linear_model import LogisticRegression\n",
        "from sklearn.metrics import accuracy_score\n",
        "from sklearn.model_selection import train_test_split\n",
        "\n",
        "modelo_kmeans = KMeans(init='k-means++', n_clusters=2, random_state=42)\n",
        "modelo_kmeans=modelo_kmeans.fit(scaled_x)\n",
        "\n",
        "cluster_labels = modelo_kmeans.fit_predict(scaled_x)\n",
        "\n",
        "X_clustered = np.column_stack((scaled_x, cluster_labels))\n"
      ]
    },
    {
      "cell_type": "markdown",
      "metadata": {
        "id": "VuLE7gLTtuUb"
      },
      "source": [
        "Dividimos los datos en conjuntos de entrenamiento y prueba (40% y 60% respectivamente).\n",
        "\n",
        "Aplicamos Regresión Logística al modelo de detección de fraude y evaluamos el modelo."
      ]
    },
    {
      "cell_type": "code",
      "execution_count": null,
      "metadata": {
        "colab": {
          "base_uri": "https://localhost:8080/"
        },
        "id": "YraFJLz7tr8_",
        "outputId": "419ab8aa-c103-4078-fcae-840de9c0e9e4"
      },
      "outputs": [
        {
          "name": "stdout",
          "output_type": "stream",
          "text": [
            "Precisión del modelo: 0.9583\n"
          ]
        }
      ],
      "source": [
        "X_train, X_test, y_train, y_test = train_test_split(X_clustered, y, test_size=0.4, random_state=42)\n",
        "\n",
        "model = LogisticRegression()\n",
        "model.fit(X_train, y_train)\n",
        "\n",
        "y_pred = model.predict(X_test)\n",
        "accuracy = accuracy_score(y_test, y_pred)\n",
        "print(\"Precisión del modelo:\", accuracy)"
      ]
    },
    {
      "cell_type": "markdown",
      "metadata": {
        "id": "ySh-Qg7UuVV1"
      },
      "source": [
        "Nuestro modelo es 95.83% efectivo para identificar transacciones fraudulentas correctamente en comparación con todas las transacciones que ha clasificado."
      ]
    },
    {
      "cell_type": "markdown",
      "metadata": {
        "id": "cyJ7p-mHm9DN"
      },
      "source": [
        "#***ALGORITMOS SUPERVISADOS***"
      ]
    },
    {
      "cell_type": "markdown",
      "metadata": {
        "id": "8savZXC99WXq"
      },
      "source": [
        "###**Support Vector Machine o SVM**\n",
        "\n",
        "*Analista: Mi-Lai Yamamoto Joo*"
      ]
    },
    {
      "cell_type": "code",
      "execution_count": null,
      "metadata": {
        "id": "a5tkFXOW8ioB"
      },
      "outputs": [],
      "source": [
        "from sklearn.svm import SVC\n",
        "from sklearn.pipeline import make_pipeline\n",
        "from sklearn.model_selection import cross_val_score\n",
        "from sklearn.preprocessing import StandardScaler\n",
        "from sklearn.metrics import classification_report, accuracy_score, confusion_matrix, precision_score\n",
        "from sklearn import preprocessing, model_selection, neighbors\n",
        "from sklearn.model_selection import train_test_split"
      ]
    },
    {
      "cell_type": "code",
      "execution_count": null,
      "metadata": {
        "id": "fClViCwKqOZ0"
      },
      "outputs": [],
      "source": [
        "data='card_transdata.csv'\n",
        "df=pd.read_csv(data)"
      ]
    },
    {
      "cell_type": "markdown",
      "metadata": {
        "id": "DLK_43O_qR56"
      },
      "source": [
        "Uno de los principales riesgos de las entidades son los fraudes en las transacciones de trajtas de crédito, en esta ocasión usaremos ML usando el modelo SVM para clasificar las transacciones en dos clases.\n",
        "En un principio planeamos usar todo el dataset pero nos dimos cuenta que la ejecución del código es muy tardado, por lo que seleccionamos una muestra aleatoria de 100,000 datos.\n",
        "\n"
      ]
    },
    {
      "cell_type": "code",
      "execution_count": null,
      "metadata": {
        "id": "r_foXw26nvvq"
      },
      "outputs": [],
      "source": [
        "sample_size=100000\n",
        "sampled_df= df.sample(n=sample_size, random_state=42, ignore_index=True)\n",
        "x = sampled_df.drop(['fraud'], axis=1)\n",
        "y =sampled_df['fraud']"
      ]
    },
    {
      "cell_type": "markdown",
      "metadata": {
        "id": "SUfobVIiEkzP"
      },
      "source": [
        "Ahora dividimos los datos en conjuntos de entrenamiento y prueba. Sea 40% para datos de prueba y 60% de entrenamiento."
      ]
    },
    {
      "cell_type": "code",
      "execution_count": null,
      "metadata": {
        "id": "9t8jPHQJ707r"
      },
      "outputs": [],
      "source": [
        "x_train, x_test, y_train, y_test = train_test_split(x, y, test_size=0.4)"
      ]
    },
    {
      "cell_type": "code",
      "execution_count": null,
      "metadata": {
        "id": "PRgINRfLD6sQ"
      },
      "outputs": [],
      "source": [
        "SD = StandardScaler()\n",
        "x_train = SD.fit_transform(x_train)\n",
        "x_test = SD.transform(x_test)\n",
        "y_train_1d = np.ravel(y_train)"
      ]
    },
    {
      "cell_type": "code",
      "source": [
        "svm_model = SVC(kernel='linear')\n",
        "svm_model.fit(x_train, y_train_1d)\n",
        "\n",
        "y_pred = svm_model.predict(x_test)"
      ],
      "metadata": {
        "id": "zIg_HTj8U4eF"
      },
      "execution_count": null,
      "outputs": []
    },
    {
      "cell_type": "markdown",
      "metadata": {
        "id": "Az2qtsW_MHUE"
      },
      "source": [
        "Evaluamos el modelo"
      ]
    },
    {
      "cell_type": "code",
      "execution_count": null,
      "metadata": {
        "id": "uqqWZ0Yg76tU"
      },
      "outputs": [],
      "source": [
        "#Evaluar el modelo\n",
        "from sklearn.metrics import confusion_matrix\n",
        "\n",
        "def calcularAccuracy(TP, TN, FP, FN):\n",
        "    accuracy = (TP + TN) / (TP + TN + FP + FN)\n",
        "    accuracy = accuracy *100\n",
        "    return accuracy\n",
        "def calcularSensibilidad(TP, TN, FP, FN):\n",
        "    sensibilidad = TP / (TP + FN)\n",
        "    sensibilidad = sensibilidad * 100\n",
        "    return sensibilidad\n",
        "def calcularEspecificidad(TP, TN, FP, FN):\n",
        "    especificidad = TN / (TN + FP)\n",
        "    especificidad = especificidad * 100\n",
        "    return especificidad\n",
        "\n",
        "resultado = confusion_matrix(y_test, y_pred)\n",
        "print(resultado)\n",
        "(TN, FP, FN, TP) = resultado.ravel()\n",
        "print(\"True positives: \"+str(TP))\n",
        "print(\"True negatives: \"+str(TN))\n",
        "print(\"False positives: \"+str(FP))\n",
        "print(\"False negative: \"+str(FN))\n",
        "\n",
        "acc = calcularAccuracy(TP, TN, FP, FN)\n",
        "sen = calcularSensibilidad(TP, TN, FP, FN)\n",
        "spec = calcularEspecificidad(TP, TN, FP, FN)\n",
        "print(\"Precision:\"+str(acc)+\"%\")\n",
        "print(\"Sensibilidad:\"+str(sen)+\"%\")\n",
        "print(\"Especificidad:\"+str(spec)+\"%\")"
      ]
    },
    {
      "cell_type": "markdown",
      "source": [
        "Nuestro modelo SVM nos data una precision de 96.325% que explica la clasificación binaria de las transacciones bancarias."
      ],
      "metadata": {
        "id": "EkbPXgTpo732"
      }
    },
    {
      "cell_type": "code",
      "execution_count": null,
      "metadata": {
        "colab": {
          "base_uri": "https://localhost:8080/",
          "height": 391
        },
        "id": "eumyk1uy9gb7",
        "outputId": "3483d180-c9c8-4201-b41f-0083d78c3df5"
      },
      "outputs": [
        {
          "data": {
            "image/png": "[encoded data removed]",
            "text/plain": [
              "<Figure size 800x400 with 2 Axes>"
            ]
          },
          "metadata": {},
          "output_type": "display_data"
        }
      ],
      "source": [
        "cm = confusion_matrix(y_test, y_pred)\n",
        "plt.figure(figsize = (8, 4))\n",
        "sns.heatmap(cm, annot = True, fmt=\"d\",cmap = \"RdPu\")\n",
        "plt.xlabel(\"Predicción\");\n",
        "plt.ylabel(\"Verdaderos\");"
      ]
    },
    {
      "cell_type": "code",
      "source": [
        "sampled_df['fraud'].value_counts()"
      ],
      "metadata": {
        "id": "VX-D5IQbpiD7"
      },
      "execution_count": null,
      "outputs": []
    },
    {
      "cell_type": "markdown",
      "source": [
        "De la matriz de confusión observamos que de 91297 transacciones legales   36382 son clasifcadas correctamente, mientras que 232 son clasificadas erroneamente.\n",
        "\n",
        "De las 8.703 muestras que son fraude , sólo 2148 están agrupadas correctamente en el Grupo 1.\n",
        "Sin embargo, 1238 muestras de la clase 1 están clasificadas erróneamente en el Grupo 0.\n",
        "\n"
      ],
      "metadata": {
        "id": "OcDsWnm9phT3"
      }
    },
    {
      "cell_type": "code",
      "execution_count": null,
      "metadata": {
        "id": "0HhGne7pFF_n"
      },
      "outputs": [],
      "source": [
        "print(confusion_matrix(y_test,y_pred))"
      ]
    },
    {
      "cell_type": "markdown",
      "metadata": {
        "id": "r2QF-Uy1E3wD"
      },
      "source": [
        "Verificamos la precisión del modelo"
      ]
    },
    {
      "cell_type": "code",
      "execution_count": null,
      "metadata": {
        "id": "r-iSSi-3E6lE"
      },
      "outputs": [],
      "source": [
        "print(accuracy_score(y_test,y_pred))"
      ]
    },
    {
      "cell_type": "code",
      "execution_count": null,
      "metadata": {
        "id": "zTvuNqEOFKJx"
      },
      "outputs": [],
      "source": [
        "print(classification_report(y_test, y_pred))"
      ]
    },
    {
      "cell_type": "markdown",
      "metadata": {
        "id": "hqslqzkFM2L8"
      },
      "source": [
        "Como observamos nuestro modelo se desempeña exelente, con un 96%"
      ]
    },
    {
      "cell_type": "markdown",
      "metadata": {
        "id": "GncC4Yd_-JZa"
      },
      "source": [
        "###**Arboles de decisión**\n",
        "\n",
        " Analista: Litzi Vianey Acosta Reyes"
      ]
    },
    {
      "cell_type": "code",
      "execution_count": null,
      "metadata": {
        "id": "Q43IZ0-7-H2X"
      },
      "outputs": [],
      "source": [
        "import pandas as pd\n",
        "from sklearn.model_selection import train_test_split\n",
        "from sklearn.tree import DecisionTreeClassifier\n",
        "from sklearn.metrics import accuracy_score, classification_report, confusion_matrix\n",
        "\n",
        "# Cargar los datos\n",
        "data = 'card_transdata.csv'\n",
        "df = pd.read_csv(data)\n",
        "\n",
        "# Preparación de los datos\n",
        "X = df.drop('fraud', axis=1)  # Características predictoras\n",
        "y = df['fraud']  # Variable objetivo\n",
        "\n",
        "# División de los datos en conjuntos de entrenamiento y prueba\n",
        "X_train, X_test, y_train, y_test = train_test_split(X, y, test_size=0.2, random_state=42)\n",
        "\n",
        "# Entrenamiento del modelo de árbol de decisión\n",
        "tree_model = DecisionTreeClassifier(random_state=42)\n",
        "tree_model.fit(X_train, y_train)\n",
        "\n",
        "# Evaluación del modelo\n",
        "y_pred = tree_model.predict(X_test)\n",
        "\n",
        "# Calcular la precisión del modelo\n",
        "precision = accuracy_score(y_test, y_pred)\n",
        "print(f\"Precisión del modelo: {precision}\")\n",
        "\n",
        "# Otras métricas de evaluación\n",
        "print(classification_report(y_test, y_pred))\n",
        "print(confusion_matrix(y_test, y_pred))\n"
      ]
    },
    {
      "cell_type": "markdown",
      "metadata": {
        "id": "z5tUfu9_j7Fm"
      },
      "source": [
        "###**MODELO  K-NEAREST NEIGHBORS (kNN)**\n",
        "\n",
        "**Elaborado por:**\n",
        "\n",
        "Tania Rosales Onofre\n",
        "\n",
        "Joselyn Guerrero Cabrera\n",
        "\n",
        "***Definición:***\n",
        "El algoritmo de k vecinos más cercanos, también conocido como KNN o k-NN, es un clasificador de aprendizaje supervisado no paramétrico, que utiliza la proximidad para hacer clasificaciones o predicciones sobre la agrupación de un punto de datos individual.\n",
        "\n",
        "Si bien se puede usar para problemas de regresión o clasificación, generalmente se usa como un algoritmo de clasificación, partiendo de la suposición de que se pueden encontrar puntos similares cerca uno del otro."
      ]
    },
    {
      "cell_type": "code",
      "execution_count": null,
      "metadata": {
        "id": "qkJtzwoLj32N",
        "colab": {
          "base_uri": "https://localhost:8080/"
        },
        "outputId": "5f436bc0-11a4-48c1-b8d9-617f348009fe"
      },
      "outputs": [
        {
          "output_type": "stream",
          "name": "stdout",
          "text": [
            "(1000000, 8)\n"
          ]
        }
      ],
      "source": [
        "import pandas as pd\n",
        "from matplotlib import pyplot as plt\n",
        "\n",
        "data='card_transdata.csv'\n",
        "df=pd.read_csv(data)\n",
        "print(df.shape)"
      ]
    },
    {
      "cell_type": "code",
      "execution_count": null,
      "metadata": {
        "id": "VzBGJ8AnkIjZ",
        "colab": {
          "base_uri": "https://localhost:8080/",
          "height": 753
        },
        "outputId": "eb04d84b-788b-4c53-d14c-d8a8866bc92a"
      },
      "outputs": [
        {
          "output_type": "display_data",
          "data": {
            "text/plain": [
              "<Figure size 1000x900 with 1 Axes>"
            ],
            "image/png": "[encoded data removed]"
          },
          "metadata": {}
        }
      ],
      "source": [
        "fig = plt.figure(figsize=(10, 9))\n",
        "x = df.drop(['fraud'], axis=1)\n",
        "y =df['fraud']\n",
        "plt.scatter(df['distance_from_home'],df['ratio_to_median_purchase_price'],c=y)\n",
        "plt.show()"
      ]
    },
    {
      "cell_type": "markdown",
      "metadata": {
        "id": "WCsZ7dPhkPUB"
      },
      "source": [
        "**Partición**\n",
        "\n",
        "Separamos un 80% de los datos para el entrenamiento, 5% de validación y 15% para la prueba"
      ]
    },
    {
      "cell_type": "code",
      "execution_count": null,
      "metadata": {
        "id": "NG01J8tNkQrw",
        "colab": {
          "base_uri": "https://localhost:8080/"
        },
        "outputId": "29f86366-a14e-40b5-fc8c-fb9c9d1942af"
      },
      "outputs": [
        {
          "output_type": "stream",
          "name": "stdout",
          "text": [
            "0.2\n",
            "(800000, 7)\n",
            "(50000, 7)\n",
            "(150000, 7)\n"
          ]
        }
      ],
      "source": [
        "#Función para particionar nuestros datos\n",
        "from sklearn.model_selection import train_test_split\n",
        "\n",
        "def particionar(entradas, salidas, porcentaje_entrenamiento, porcentaje_validacion, porcentaje_prueba):\n",
        "    temp_size = porcentaje_validacion + porcentaje_prueba\n",
        "    print(temp_size)\n",
        "    x_train, x_temp, y_train, y_temp = train_test_split(entradas, salidas, test_size =temp_size)\n",
        "    if(porcentaje_validacion > 0):\n",
        "        test_size = porcentaje_prueba/temp_size\n",
        "        x_val, x_test, y_val, y_test = train_test_split(x_temp, y_temp, test_size = test_size)\n",
        "    else:\n",
        "        return [x_train, None, x_temp, y_train, None, y_temp]\n",
        "    return [x_train, x_val, x_test, y_train, y_val, y_test]\n",
        "\n",
        "#Particionamos los datos\n",
        "[x_train, x_val, x_test, y_train, y_val, y_test] = particionar(x,y,0.8,0.05,0.15)\n",
        "\n",
        "print(x_train.shape)\n",
        "print(x_val.shape)\n",
        "print(x_test.shape)"
      ]
    },
    {
      "cell_type": "markdown",
      "metadata": {
        "id": "cWGGODv7kWFu"
      },
      "source": [
        "**Función Distancia**\n",
        "\n",
        "Distancia euclidiana: Esta es la medida de distancia más utilizada y está limitada a vectores de valor real. Usando la fórmula a continuación, mide una línea recta entre el punto de consulta y el otro punto que se mide.\n",
        "\n",
        "Distancia Manhattan: Esta es también otra métrica de distancia popular, que mide el valor absoluto entre dos puntos.\n",
        "\n",
        "Distancia Minkowski: Esta medida de distancia es la forma generalizada de las métricas de distancia Euclidiana y Manhattan.\n",
        "\n"
      ]
    },
    {
      "cell_type": "code",
      "execution_count": null,
      "metadata": {
        "id": "2zFwIjBFkZQs"
      },
      "outputs": [],
      "source": [
        "# Distancia eucilidiana:\n",
        "def distEuclidiana(muestra, dataset):\n",
        "    distancias = np.zeros((dataset.shape[0],1))\n",
        "    for counter in range(0,dataset.shape[0]):\n",
        "        distancias[counter] = np.linalg.norm(muestra-dataset[counter])\n",
        "    return distancias\n",
        "\n",
        "# Distancia Manhattan\n",
        "def distManhattan(muestra, dataset):\n",
        "    distancias = np.zeros((dataset.shape[0], 1))\n",
        "    for counter in range(0,dataset.shape[0]):\n",
        "        distancias[counter] = np.sum(np.abs(muestra - dataset[counter]))\n",
        "    return distancias\n",
        "\n",
        "# Distancia Minkowski\n",
        "def distMinkowski(muestra, dataset):\n",
        "    #p indica el orden de la distancia, tiene que ser entre 1 y 2 porque 1 es\n",
        "    #para manhattan y 2 para la eucladiana\n",
        "    p=1.5\n",
        "    distancias = np.zeros((dataset.shape[0], 1))\n",
        "    for counter in range(dataset.shape[0]):\n",
        "        distancias[counter] = np.linalg.norm(muestra - dataset[counter], ord=p)\n",
        "    return distancias\n"
      ]
    },
    {
      "cell_type": "markdown",
      "metadata": {
        "id": "FzBc8Zokketp"
      },
      "source": [
        "**Accuaraccy**\n",
        "\n",
        "Con la siguiente función obtendremos la presición del modelo."
      ]
    },
    {
      "cell_type": "code",
      "execution_count": null,
      "metadata": {
        "id": "Yw7qztfPkiVe"
      },
      "outputs": [],
      "source": [
        "def calcularAccuracy(TP, TN, FP, FN):\n",
        "    accuracy = (TP + TN) / (TP + TN + FP + FN)\n",
        "    accuracy = accuracy * 100\n",
        "    return accuracy"
      ]
    },
    {
      "cell_type": "markdown",
      "metadata": {
        "id": "hgHasS8nkoW3"
      },
      "source": [
        "**Función knn**\n",
        "\n",
        "Parámetros de la función:\n",
        "*   muestra: La muestra para la que queremos predecir la etiqueta.\n",
        "*   Elemento de lista\n",
        "*   dataset: El conjunto de datos que contiene las muestras de entrenamiento.\n",
        "*   labels:  Las etiquetas correspondientes a las muestras en el conjunto de datos.\n",
        "*   k :   El número de vecinos más cercanos a considerar.\n",
        "* distances: Distancias"
      ]
    },
    {
      "cell_type": "code",
      "execution_count": null,
      "metadata": {
        "id": "w9kZ9q9vklyJ"
      },
      "outputs": [],
      "source": [
        "import numpy as np\n",
        "def knn(muestra, dataset, labels, k, distances):\n",
        "\n",
        "    # Ordena los índices de las distancias de menor a mayor y selecciona los k primeros\n",
        "    sorted_indices = np.argsort(distances)[:k]\n",
        "\n",
        "    # Obtiene las etiquetas correspondientes a los k vecinos más cercanos\n",
        "    k_nearest_labels = labels[sorted_indices]\n",
        "\n",
        "    # Calcula la etiqueta más común entre los k vecinos más cercanos\n",
        "    prediction = np.bincount(k_nearest_labels).argmax()\n",
        "\n",
        "    return prediction"
      ]
    },
    {
      "cell_type": "markdown",
      "source": [
        "**Evaluación de las funciones**"
      ],
      "metadata": {
        "id": "CBRgrftbbDFt"
      }
    },
    {
      "cell_type": "code",
      "source": [
        "#Definimos nuestra mestra\n",
        "muestra = x_test.iloc[0]\n",
        "\n",
        "#Obtenemos las distancias\n",
        "distances_eu = distEuclidiana(muestra, x_train.values)\n",
        "distances_man= distManhattan(muestra, x_train.values)\n",
        "distances_min= distMinkowski(muestra, x_train.values)"
      ],
      "metadata": {
        "id": "Z_ekKrZ4a7yU"
      },
      "execution_count": null,
      "outputs": []
    },
    {
      "cell_type": "code",
      "source": [
        "# Utiliza la función knn para predecir la etiqueta de la muestra de prueba\n",
        "k=5\n",
        "prediction_eu  = knn(muestra, x_train, y_train, k, distances_eu)\n",
        "prediction_man = knn(muestra, x_train, y_train, k, distances_man)\n",
        "prediction_min = knn(muestra, x_train, y_train, k, distances_min)\n",
        "\n",
        "# La variable 'prediction' contendrá la etiqueta predicha para la muestra de prueba\n",
        "print(\"Etiqueta predicha para la muestra de prueba:\", prediction)"
      ],
      "metadata": {
        "id": "BhMtncDCyVVr"
      },
      "execution_count": null,
      "outputs": []
    },
    {
      "cell_type": "markdown",
      "metadata": {
        "id": "N26xZ1WzkwZj"
      },
      "source": [
        "**KNN con función sklearn.neighbors**\n",
        "\n",
        "En el contexto de nuestro trabajo, nos encontramos con dificultades y errores al intentar implementar soluciones personalizadas, lo que nos llevó a optar por las funciones predeterminadas disponibles en la bilbioteca Scikit-Learn para garantizar un desarrollo eficiente de nuestro código."
      ]
    },
    {
      "cell_type": "code",
      "execution_count": null,
      "metadata": {
        "id": "-a_Er7pikxQo"
      },
      "outputs": [],
      "source": [
        "from sklearn.model_selection import train_test_split, KFold, cross_val_score\n",
        "from sklearn.neighbors import KNeighborsClassifier\n",
        "import numpy as np\n",
        "\n",
        "\n",
        "X = df.iloc[:, :-1].values\n",
        "y = df.iloc[:, -1].values\n",
        "\n",
        "# Dividir el conjunto de datos en entrenamiento y prueba\n",
        "#80% de los datos para entrenamiento\n",
        "#20% de los datos para prueba\n",
        "\n",
        "X_train, X_test, y_train, y_test = train_test_split(X, y, test_size=0.2, random_state=42)\n",
        "\n",
        "# Inicializar el clasificador KNN\n",
        "\n",
        "knn_eu = KNeighborsClassifier(n_neighbors=5, metric='euclidean') #con la distancia euclidiana\n",
        "knn_man= KNeighborsClassifier(n_neighbors=5, metric='manhattan') #con la distancia Manhattan\n",
        "\n",
        "kf = KFold(n_splits=5, shuffle=True, random_state=42)\n",
        "\n",
        "# Realizar la validación cruzada en el conjunto de entrenamiento\n",
        "scores_eu  = cross_val_score(knn_eu, X_train, y_train, cv=kf)\n",
        "scores_man = cross_val_score(knn_man, X_train, y_train, cv=kf)\n",
        "\n",
        "# Imprimir el rendimiento del modelo en la validación cruzada\n",
        "print(f\"Precisión modelo con distancia euclidiana: {np.mean(scores_eu):.2f}\")\n",
        "print(f\"Precisión modelo con distancia manhattan: {np.mean(scores_man):.2f}\")\n",
        "\n",
        "\n",
        "# Entrenar el modelo con todo el conjunto de entrenamiento y evaluar en el conjunto de prueba\n",
        "#euclidiano\n",
        "knn_eu.fit(X_train, y_train)\n",
        "test_score = knn_eu.score(X_test, y_test)\n",
        "print(f\"Precisión en el conjunto de prueba: {test_score:.2f}\")\n",
        "#Manhattan\n",
        "knn_man.fit(X_train, y_train)\n",
        "test_score = knn_man.score(X_test, y_test)\n",
        "print(f\"Precisión en el conjunto de prueba: {test_score:.2f}\")"
      ]
    },
    {
      "cell_type": "markdown",
      "metadata": {
        "id": "52XNPyCWk34E"
      },
      "source": [
        "Estos resultados indican que ambos modelos son bastante precisos en la predicción de las etiquetas de clase en el conjunto de prueba. Sin embargo, el modelo con distancia Manhattan parece ser ligeramente más preciso que el modelo con distancia euclidiana. Además, la precisión en el conjunto de prueba es consistente con las precisiones de los modelos individuales, lo que sugiere que los modelos generalizan bien a datos no vistos.\n",
        "\n",
        "Por lo tanto, si continuamos trabajando con el ajuste de la distancia Manhattan, podemos concluir que el modelo es altamente preciso en la clasificación de las instancias en el conjunto de datos evaluado. Este alto nivel de precisión sugiere una buena separabilidad de clases y predicciones confiables por parte del modelo. Esto implica que las clases en el conjunto de datos están bien diferenciadas, lo que permite al modelo hacer predicciones precisas basadas en las características proporcionadas."
      ]
    },
    {
      "cell_type": "markdown",
      "source": [
        "# **Árboles de Decisión**\n",
        "\n",
        "Autoras:\n",
        "Litzi Acosta,\n",
        "Dafne Badillo\n",
        "\n",
        "El siguiente modelo que analizaremos es de aprendizaje supervisado. Los pasos a realizar son los siguientes:\n",
        "\n",
        "1. Divisón del conjunto de datos - Este es el primer paso ya que los arboles empiezan con los datos completos desde la raíz y en cada nodo interno se dividen los datos en subconjuntos más pequeños basados en una característica.\n",
        "2. Selección de la mejor característica - Para este caso en específico decidimos utilizar la característica 'fraud' ya que esta indica en un valor númerico 0 (si no fue fraude) y 1 (si fue fraude). Considerando que esta es la mejor característica basa en una decisión booleana.\n",
        "3. Entrenamiento y prueba - Se dividen los datos en dos categorías para que el modelo pueda tener mejores resultados.\n",
        "4. Evaluación del modelo - Se utiliza la función accuracy_score de la biblioteca Scikit-learn.\n",
        "\n"
      ],
      "metadata": {
        "id": "syO76ddb7Pao"
      }
    },
    {
      "cell_type": "code",
      "source": [
        "# Preparación de los datos\n",
        "X = df.drop('ratio_to_median_purchase_price', axis=1)  # Características predictoras\n",
        "y = df['fraud']  # Variable objetivo"
      ],
      "metadata": {
        "id": "RGi7cGoy711J"
      },
      "execution_count": null,
      "outputs": []
    },
    {
      "cell_type": "markdown",
      "source": [
        "Se utiliza la característica 'ratio_to_median_purchase_price' como variable x_train que funciona como la característica predictora. Y en y_train como la variable binaria que indique si cada transacción es fraudulenta o no."
      ],
      "metadata": {
        "id": "ltYzHzUZ75T3"
      }
    },
    {
      "cell_type": "code",
      "source": [
        "# División de los datos en conjuntos de entrenamiento y prueba\n",
        "X_train, X_test, y_train, y_test = train_test_split(X, y, test_size=0.2, random_state=42)"
      ],
      "metadata": {
        "id": "qI1QZVaZ774d"
      },
      "execution_count": null,
      "outputs": []
    },
    {
      "cell_type": "markdown",
      "source": [
        "Se establece como random_state 42 ya que se ha elejido como un valor pre establecido."
      ],
      "metadata": {
        "id": "wQKRWQ4H7-8A"
      }
    },
    {
      "cell_type": "code",
      "source": [
        "# Entrenamiento del modelo de árbol de decisión\n",
        "tree_model = DecisionTreeClassifier(random_state=42)\n",
        "tree_model.fit(X_train, y_train)"
      ],
      "metadata": {
        "id": "Y9TF1_9u8BI-"
      },
      "execution_count": null,
      "outputs": []
    },
    {
      "cell_type": "markdown",
      "source": [
        "Después de ejecutar estas líneas de código, el modelo de árbol de decisión estará entrenado y listo para hacer predicciones sobre los datos."
      ],
      "metadata": {
        "id": "Nq-GaMRe8DEx"
      }
    },
    {
      "cell_type": "code",
      "source": [
        "# Evaluación del modelo\n",
        "y_pred = tree_model.predict(X_test)"
      ],
      "metadata": {
        "id": "feGGzmv08FK-"
      },
      "execution_count": null,
      "outputs": []
    },
    {
      "cell_type": "code",
      "source": [
        "# Calcular la precisión del modelo\n",
        "precision = accuracy_score(y_test, y_pred)\n",
        "print(f\"Precisión del modelo: {precision}\")"
      ],
      "metadata": {
        "id": "uxureui58JAP"
      },
      "execution_count": null,
      "outputs": []
    },
    {
      "cell_type": "markdown",
      "source": [
        "Para calcular la precisión del modelo decidimos utilizar la función accuracy_score, tomando como entrada las etiquetas verdaderas y las predicciones realizadas anteriormente. Un valor de precisión de 1.0, significa que todas las muestras en tu conjunto de datos de prueba fueron clasificadas correctamente por el modelo. Por lo que es un resultado muy deseable y sugiere que tu modelo es muy efectivo en hacer predicciones precisas sobre los datos de prueba."
      ],
      "metadata": {
        "id": "OlE5O7JT8HZ4"
      }
    },
    {
      "cell_type": "markdown",
      "metadata": {
        "id": "vyrr1AJxk9io"
      },
      "source": [
        "###**REDES NEURONALES**\n",
        "\n",
        "Autora: Dafne Linette Badillo Campuzano\n",
        "\n",
        "En este ejemplo vamos a conectar una red neuronal: Una red neuronal se compone de varias capas neuronales conectadas que envían información hacia adelante. Para ello vamos a conectar dos neuronas en la capa 1, con una neurona en la capa 2.\n",
        "\n",
        "Para los datos de la detección de fraude utilizaremos una red neuronal que esta compuesta de varias capas neuronales conetadas que envían información hacia adelante. Para ello, conectamos dos neuronas en la capa 1 con una neurona en la capa 2."
      ]
    },
    {
      "cell_type": "markdown",
      "metadata": {
        "id": "m9n92xHxlaTL"
      },
      "source": [
        "Pasos para implementar una red neuronal en nuestro dataset:\n",
        "1. Preparar tus datos.\n",
        "2. Inicializar pesos y sesgos con datos del dataset.\n",
        "3. Entrenar la red neuronal."
      ]
    },
    {
      "cell_type": "code",
      "execution_count": null,
      "metadata": {
        "id": "2dghY2_TlhZ8"
      },
      "outputs": [],
      "source": [
        "import pandas as pd\n",
        "data='card_transdata.csv'\n",
        "df=pd.read_csv(data)"
      ]
    },
    {
      "cell_type": "markdown",
      "metadata": {
        "id": "AEhRVsMnlSnR"
      },
      "source": [
        "Antes de iniciar la programación y entrenamiento de la red neuronal; desarrollamos un mapa de correlación utilizando un mapa de calor, esto con el proposito de explorar la relación entre las características en el data set.\n",
        "Así será más fácil identificar las características mas correlacionadas y guiar la selección de características."
      ]
    },
    {
      "cell_type": "code",
      "execution_count": null,
      "metadata": {
        "id": "9NFpL8Jdl2Cg"
      },
      "outputs": [],
      "source": [
        "# Crear el mapa de calor\n",
        "plt.figure(figsize=(10, 8))  # Definir el tamaño del gráfico\n",
        "\n",
        "# Utilizar sns.heatmap para crear el mapa de calor\n",
        "sns.heatmap(df.corr(), annot=True, cmap='coolwarm', fmt='.2f')\n",
        "# 'annot=True' muestra los valores en cada celda, 'cmap' define el esquema de color, 'fmt' establece el formato de los valores\n",
        "\n",
        "plt.title('Mapa de Calor de Correlación')  # Establecer el título del gráfico\n",
        "plt.show()  # Mostrar el mapa de calor"
      ]
    },
    {
      "cell_type": "markdown",
      "metadata": {
        "id": "psom25uBl9Ol"
      },
      "source": [
        "De acuerdo a la matriz de correlación implementada anteriormente, se ha concluido en utilizar la característica **ratio_to_median_purchase_price** ya que, esta característica podría ayudar a identificar transacciones que tienen un valor inusualmente alto o bajo en comparación en el precio de compra medio. Transacciones que están significativamente por encima o por debajo de la media podrían ser sospechosas de fraude. En conjunto con la característica de **fraud** ya que presenta un valor de 0.46 lo que quiere decir que indica que hay una relación moderadamente positiva entre estas dos características en el conjunto de datos.\n"
      ]
    },
    {
      "cell_type": "code",
      "execution_count": null,
      "metadata": {
        "id": "AdUxXmwul5B8"
      },
      "outputs": [],
      "source": [
        "# Seleccionar la característica \"ratio_to_median_purchase_price\"\n",
        "X_selected = df[['ratio_to_median_purchase_price']]\n",
        "\n",
        "# Convertir la columna 'Fraude' en la variable objetivo y\n",
        "y = df['fraud']"
      ]
    },
    {
      "cell_type": "code",
      "execution_count": null,
      "metadata": {
        "id": "umkmHDfUmBnG"
      },
      "outputs": [],
      "source": [
        "X_selected"
      ]
    },
    {
      "cell_type": "code",
      "execution_count": null,
      "metadata": {
        "id": "sm721Zb7mF_b"
      },
      "outputs": [],
      "source": [
        "def calcularZ(w, x, b):\n",
        "    # Asegurar que b tenga la misma forma que la matriz resultante de la multiplicación de w y x\n",
        "    b_expanded = np.tile(b, (x.shape[1], 1)).T\n",
        "    z = np.dot(w, x) + b_expanded\n",
        "    return z\n",
        "\n",
        "def activacion(z):\n",
        "    y = 1 / (1 + np.exp(-z))\n",
        "    return y\n",
        "\n",
        "def capaNeuronal(w,x,b):\n",
        "    z = calcularZ(w,x,b)\n",
        "    y_pred = activacion(z)\n",
        "    return y_pred\n",
        "\n",
        "def inicializarCapa(numCaracteristicas, numNeuronas):\n",
        "    w = np.random.rand(numCaracteristicas,numNeuronas)\n",
        "    w_transpose = w.T\n",
        "    b = np.random.rand(numNeuronas)\n",
        "    return w_transpose,b"
      ]
    },
    {
      "cell_type": "code",
      "execution_count": null,
      "metadata": {
        "id": "v6AfWYA9mRZo"
      },
      "outputs": [],
      "source": [
        "# Supongamos que tienes tus datos de entrada X_train y y_train\n",
        "# y que has seleccionado solo la característica \"ratio_to_median_purchase_price\"\n",
        "X_train = X_selected\n",
        "\n",
        "# Número de características después de la selección\n",
        "numCaracteristicas = 1\n",
        "\n",
        "# Número de neuronas en la primera capa oculta\n",
        "numNeuronas1 = 4\n",
        "\n",
        "# Número de neuronas en la segunda capa oculta\n",
        "numNeuronas2 = 2"
      ]
    },
    {
      "cell_type": "code",
      "execution_count": null,
      "metadata": {
        "id": "BlODoVYpmMAk"
      },
      "outputs": [],
      "source": [
        "# Inicializar los pesos y sesgos para la primera capa oculta\n",
        "w1, b1 = inicializarCapa(numCaracteristicas, numNeuronas1)\n",
        "\n",
        "# Inicializar los pesos y sesgos para la segunda capa oculta\n",
        "w2, b2 = inicializarCapa(numNeuronas1, numNeuronas2)\n"
      ]
    },
    {
      "cell_type": "code",
      "execution_count": null,
      "metadata": {
        "id": "rB5IAwUbmTsl"
      },
      "outputs": [],
      "source": [
        "# Salida de la primera capa oculta\n",
        "y1 = capaNeuronal(w1, X_selected.values.T, b1)\n",
        "\n",
        "# Salida de la segunda capa oculta y predicción final\n",
        "y_pred = capaNeuronal(w2, y1, b2)\n",
        "\n",
        "# Imprimir la salida final\n",
        "print(y_pred)"
      ]
    },
    {
      "cell_type": "markdown",
      "metadata": {
        "id": "nyrZl49pl8lE"
      },
      "source": [
        "La salida final **y_pred** representan las predicciones realizadas por la Red Neuronal para cada ejemplo del data set de entrada. Estos valores representan la probabilidad estimada de que cada transacción sea fraudulenta.\n",
        "os valores de **y_pred** están en el rango [0, 1]. Un valor cercano a 1 indica una alta probabilidad de fraude, mientras que un valor cercano a 0 indica una baja probabilidad de fraude."
      ]
    },
    {
      "cell_type": "markdown",
      "metadata": {
        "id": "IpkXjR4YmcRW"
      },
      "source": [
        "El siguiente paso para continuar es entrenar la Red Nueronal, ajustando pesos y sesgos mediante la retropropagación y así finalmente evaluar el rendimiento del modelo."
      ]
    },
    {
      "cell_type": "code",
      "execution_count": null,
      "metadata": {
        "id": "mhPzpxirmfsW"
      },
      "outputs": [],
      "source": [
        "from sklearn.model_selection import train_test_split\n",
        "\n",
        "# Dividir los datos en entrenamiento y prueba\n",
        "X_train, X_test, y_train, y_test = train_test_split(X_selected, y, test_size=0.2, random_state=42)\n",
        "\n",
        "# Definir y configurar la red neuronal\n",
        "red_neuronal = MLPClassifier(hidden_layer_sizes=(4, 2), max_iter=20000, activation='logistic', tol=1e-7)\n",
        "\n",
        "# Entrenar la red neuronal\n",
        "red_neuronal.fit(X_train, y_train)\n",
        "\n",
        "# Evaluar el rendimiento del modelo\n",
        "precision = red_neuronal.score(X_test, y_test)\n",
        "print(\"Precisión del modelo:\", precision)\n",
        "\n"
      ]
    },
    {
      "cell_type": "markdown",
      "metadata": {
        "id": "S6c-aCy3mgiQ"
      },
      "source": [
        "Una precisión del modelo del 93.91% es un resultado bastante sólido. Esto significa que la red neuronal es capaz de predecir correctamente el 93.91% de las transacciones como fraudes o no fraudes en tu conjunto de datos de prueba.\n",
        "\n",
        "La función MLPClassifier de Scikit-learn utiliza SGD por defecto como el algoritmo de optimización para entrenar la red neuronal.\n",
        "En este contexto del modelo de la Red Neuronal para la detección de fraudes en tarjetas de crédito, el SGD se encarga de ajustar los pesos y sesgos de la red neuronal durante el proceso de entrenamiento para minimizar la función de pérdida.\n",
        "\n",
        "En conclusión, el resultado de la precisión del modelo del 93.91% indica que la red neuronal entrenada utilizando el SGD, es capaz de realizar predicciones precisas en la detección de fraudes en tarjetas de crédito en el conjunto de datos de prueba. Esto sugiere que el SGD fue efectivo en ajustar los parámetros del modelo para lograr un rendimiento sólido en la tarea de clasificación."
      ]
    },
    {
      "cell_type": "markdown",
      "source": [
        "###**Conclusión**\n",
        "\n",
        "En conclusión nuestros algoritmos quedaron de la siguiente forma de acuerdo a su precisión:\n",
        "\n",
        "1. Arboles de decisiones 99% - 100%\n",
        "2. Support Vector Machine 96.325%\n",
        "3. Regresión Logistica 95.83%\n",
        "4. Redes Neuronales 93.91%\n",
        "5. KNN\n",
        "6. Kmeans- No fue un buen modelo para detectar fraudes bancarios.\n",
        "\n",
        "Finalmente, nos dimos cuenta que para modelar fraudes en trasacciones de tarjetas de crédito los algoritmos supervisados son mejores que los algoritmos no supervisados.\n",
        "Entender cada uno de los codigos y sus diferencias fue un reto, a pesar de que nos faltaron algoritmos por probar como Random Forest, podemos decir que el algoritmo de arboles de decisiones se ajusta bien a nuestros datos.\n",
        "\n",
        "Después de haber llevado a cabo este proyecto, nos encontramos con grandes retos como llevar a cabo algoritmos que nunca habíamos tenido experiencia. Pero esta clase de retos, nos ayudo a retarnos como analistas de datos, ayudandonos a adquirir mayor experiencia y a ampliar nuestro conocimiento. Y a enfrentar problemáticas que con los conocimientos adquiridos podemos aplicar en nuestros respectivos campos y seguir aprendiendo y enfrentando nuevos retos y experiencias."
      ],
      "metadata": {
        "id": "ENr06J6ltGSC"
      }
    }
  ],
  "metadata": {
    "colab": {
      "provenance": [],
      "toc_visible": true,
      "include_colab_link": true
    },
    "kernelspec": {
      "display_name": "Python 3",
      "name": "python3"
    },
    "language_info": {
      "name": "python"
    }
  },
  "nbformat": 4,
  "nbformat_minor": 0
}